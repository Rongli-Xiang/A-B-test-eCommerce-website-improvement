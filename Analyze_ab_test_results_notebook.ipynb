{
 "cells": [
  {
   "cell_type": "markdown",
   "metadata": {},
   "source": [
    "## Analyze A/B Test Results\n",
    "\n",
    "You may either submit your notebook through the workspace here, or you may work from your local machine and submit through the next page.  Either way assure that your code passes the project [RUBRIC](https://review.udacity.com/#!/projects/37e27304-ad47-4eb0-a1ab-8c12f60e43d0/rubric).  **Please save regularly\n",
    "\n",
    "This project will assure you have mastered the subjects covered in the statistics lessons.  The hope is to have this project be as comprehensive of these topics as possible.  Good luck!\n",
    "\n",
    "## Table of Contents\n",
    "- [Introduction](#intro)\n",
    "- [Part I - Probability](#probability)\n",
    "- [Part II - A/B Test](#ab_test)\n",
    "- [Part III - Regression](#regression)\n",
    "\n",
    "\n",
    "<a id='intro'></a>\n",
    "### Introduction\n",
    "\n",
    "A/B tests are very commonly performed by data analysts and data scientists.  It is important that you get some practice working with the difficulties of these \n",
    "\n",
    "For this project, you will be working to understand the results of an A/B test run by an e-commerce website.  Your goal is to work through this notebook to help the company understand if they should implement the new page, keep the old page, or perhaps run the experiment longer to make their decision.\n",
    "\n",
    "**As you work through this notebook, follow along in the classroom and answer the corresponding quiz questions associated with each question.** The labels for each classroom concept are provided for each question.  This will assure you are on the right track as you work through the project, and you can feel more confident in your final submission meeting the criteria.  As a final check, assure you meet all the criteria on the [RUBRIC](https://review.udacity.com/#!/projects/37e27304-ad47-4eb0-a1ab-8c12f60e43d0/rubric).\n",
    "\n",
    "<a id='probability'></a>\n",
    "#### Part I - Probability\n",
    "\n",
    "To get started, let's import our libraries."
   ]
  },
  {
   "cell_type": "code",
   "execution_count": 1,
   "metadata": {},
   "outputs": [],
   "source": [
    "import pandas as pd\n",
    "import numpy as np\n",
    "import random\n",
    "import matplotlib.pyplot as plt\n",
    "%matplotlib inline\n",
    "#We are setting the seed to assure you get the same answers on quizzes as we set up\n",
    "random.seed(42)"
   ]
  },
  {
   "cell_type": "markdown",
   "metadata": {},
   "source": [
    "`1.` Now, read in the `ab_data.csv` data. Store it in `df`.  **Use your dataframe to answer the questions in Quiz 1 of the classroom.**\n",
    "\n",
    "a. Read in the dataset and take a look at the top few rows here:"
   ]
  },
  {
   "cell_type": "code",
   "execution_count": 3,
   "metadata": {},
   "outputs": [
    {
     "data": {
      "text/html": [
       "<div>\n",
       "<style scoped>\n",
       "    .dataframe tbody tr th:only-of-type {\n",
       "        vertical-align: middle;\n",
       "    }\n",
       "\n",
       "    .dataframe tbody tr th {\n",
       "        vertical-align: top;\n",
       "    }\n",
       "\n",
       "    .dataframe thead th {\n",
       "        text-align: right;\n",
       "    }\n",
       "</style>\n",
       "<table border=\"1\" class=\"dataframe\">\n",
       "  <thead>\n",
       "    <tr style=\"text-align: right;\">\n",
       "      <th></th>\n",
       "      <th>user_id</th>\n",
       "      <th>timestamp</th>\n",
       "      <th>group</th>\n",
       "      <th>landing_page</th>\n",
       "      <th>converted</th>\n",
       "    </tr>\n",
       "  </thead>\n",
       "  <tbody>\n",
       "    <tr>\n",
       "      <th>0</th>\n",
       "      <td>851104</td>\n",
       "      <td>2017-01-21 22:11:48.556739</td>\n",
       "      <td>control</td>\n",
       "      <td>old_page</td>\n",
       "      <td>0</td>\n",
       "    </tr>\n",
       "    <tr>\n",
       "      <th>1</th>\n",
       "      <td>804228</td>\n",
       "      <td>2017-01-12 08:01:45.159739</td>\n",
       "      <td>control</td>\n",
       "      <td>old_page</td>\n",
       "      <td>0</td>\n",
       "    </tr>\n",
       "    <tr>\n",
       "      <th>2</th>\n",
       "      <td>661590</td>\n",
       "      <td>2017-01-11 16:55:06.154213</td>\n",
       "      <td>treatment</td>\n",
       "      <td>new_page</td>\n",
       "      <td>0</td>\n",
       "    </tr>\n",
       "    <tr>\n",
       "      <th>3</th>\n",
       "      <td>853541</td>\n",
       "      <td>2017-01-08 18:28:03.143765</td>\n",
       "      <td>treatment</td>\n",
       "      <td>new_page</td>\n",
       "      <td>0</td>\n",
       "    </tr>\n",
       "    <tr>\n",
       "      <th>4</th>\n",
       "      <td>864975</td>\n",
       "      <td>2017-01-21 01:52:26.210827</td>\n",
       "      <td>control</td>\n",
       "      <td>old_page</td>\n",
       "      <td>1</td>\n",
       "    </tr>\n",
       "  </tbody>\n",
       "</table>\n",
       "</div>"
      ],
      "text/plain": [
       "   user_id                   timestamp      group landing_page  converted\n",
       "0   851104  2017-01-21 22:11:48.556739    control     old_page          0\n",
       "1   804228  2017-01-12 08:01:45.159739    control     old_page          0\n",
       "2   661590  2017-01-11 16:55:06.154213  treatment     new_page          0\n",
       "3   853541  2017-01-08 18:28:03.143765  treatment     new_page          0\n",
       "4   864975  2017-01-21 01:52:26.210827    control     old_page          1"
      ]
     },
     "execution_count": 3,
     "metadata": {},
     "output_type": "execute_result"
    }
   ],
   "source": [
    "df=pd.read_csv('ab_data.csv')\n",
    "df.head()"
   ]
  },
  {
   "cell_type": "markdown",
   "metadata": {},
   "source": [
    "b. Use the below cell to find the number of rows in the dataset."
   ]
  },
  {
   "cell_type": "code",
   "execution_count": 4,
   "metadata": {},
   "outputs": [
    {
     "data": {
      "text/plain": [
       "(294478, 5)"
      ]
     },
     "execution_count": 4,
     "metadata": {},
     "output_type": "execute_result"
    }
   ],
   "source": [
    "df.shape"
   ]
  },
  {
   "cell_type": "markdown",
   "metadata": {},
   "source": [
    "c. The number of unique users in the dataset."
   ]
  },
  {
   "cell_type": "code",
   "execution_count": 5,
   "metadata": {},
   "outputs": [
    {
     "data": {
      "text/plain": [
       "290584"
      ]
     },
     "execution_count": 5,
     "metadata": {},
     "output_type": "execute_result"
    }
   ],
   "source": [
    "df.user_id.nunique()"
   ]
  },
  {
   "cell_type": "markdown",
   "metadata": {
    "collapsed": true
   },
   "source": [
    "d. The proportion of users converted."
   ]
  },
  {
   "cell_type": "code",
   "execution_count": 6,
   "metadata": {},
   "outputs": [
    {
     "data": {
      "text/plain": [
       "0.11965919355605512"
      ]
     },
     "execution_count": 6,
     "metadata": {},
     "output_type": "execute_result"
    }
   ],
   "source": [
    "df.converted.sum()/len(df)"
   ]
  },
  {
   "cell_type": "markdown",
   "metadata": {
    "collapsed": true
   },
   "source": [
    "e. The number of times the `new_page` and `treatment` don't line up."
   ]
  },
  {
   "cell_type": "code",
   "execution_count": 26,
   "metadata": {},
   "outputs": [
    {
     "data": {
      "text/plain": [
       "3893"
      ]
     },
     "execution_count": 26,
     "metadata": {},
     "output_type": "execute_result"
    }
   ],
   "source": [
    "all=(df.group=='treatment') | (df.landing_page =='new_page')\n",
    "line=(df.group=='treatment') & (df.landing_page =='new_page')\n",
    "all.sum()-line.sum()"
   ]
  },
  {
   "cell_type": "markdown",
   "metadata": {},
   "source": [
    "f. Do any of the rows have missing values?"
   ]
  },
  {
   "cell_type": "code",
   "execution_count": 7,
   "metadata": {},
   "outputs": [
    {
     "data": {
      "text/plain": [
       "user_id         0\n",
       "timestamp       0\n",
       "group           0\n",
       "landing_page    0\n",
       "converted       0\n",
       "dtype: int64"
      ]
     },
     "execution_count": 7,
     "metadata": {},
     "output_type": "execute_result"
    }
   ],
   "source": [
    "df.isnull().sum()"
   ]
  },
  {
   "cell_type": "markdown",
   "metadata": {},
   "source": [
    "`2.` For the rows where **treatment** is not aligned with **new_page** or **control** is not aligned with **old_page**, we cannot be sure if this row truly received the new or old page.  Use **Quiz 2** in the classroom to provide how we should handle these rows.  \n",
    "\n",
    "a. Now use the answer to the quiz to create a new dataset that meets the specifications from the quiz.  Store your new dataframe in **df2**."
   ]
  },
  {
   "cell_type": "code",
   "execution_count": 8,
   "metadata": {},
   "outputs": [],
   "source": [
    "line=((df.group=='treatment') & (df.landing_page =='new_page'))|((df.group=='control') & (df.landing_page =='old_page'))\n",
    "df2=df[line]"
   ]
  },
  {
   "cell_type": "code",
   "execution_count": 9,
   "metadata": {},
   "outputs": [
    {
     "data": {
      "text/plain": [
       "(290585, 5)"
      ]
     },
     "execution_count": 9,
     "metadata": {},
     "output_type": "execute_result"
    }
   ],
   "source": [
    "df2.shape"
   ]
  },
  {
   "cell_type": "code",
   "execution_count": 10,
   "metadata": {},
   "outputs": [
    {
     "data": {
      "text/plain": [
       "0"
      ]
     },
     "execution_count": 10,
     "metadata": {},
     "output_type": "execute_result"
    }
   ],
   "source": [
    "# Double Check all of the correct rows were removed - this should be 0\n",
    "df2[((df2['group'] == 'treatment') == (df2['landing_page'] == 'new_page')) == False].shape[0]"
   ]
  },
  {
   "cell_type": "markdown",
   "metadata": {},
   "source": [
    "`3.` Use **df2** and the cells below to answer questions for **Quiz3** in the classroom."
   ]
  },
  {
   "cell_type": "markdown",
   "metadata": {},
   "source": [
    "a. How many unique **user_id**s are in **df2**?"
   ]
  },
  {
   "cell_type": "code",
   "execution_count": 10,
   "metadata": {},
   "outputs": [
    {
     "data": {
      "text/plain": [
       "290584"
      ]
     },
     "execution_count": 10,
     "metadata": {},
     "output_type": "execute_result"
    }
   ],
   "source": [
    "df2.user_id.nunique()"
   ]
  },
  {
   "cell_type": "markdown",
   "metadata": {
    "collapsed": true
   },
   "source": [
    "b. There is one **user_id** repeated in **df2**.  What is it?"
   ]
  },
  {
   "cell_type": "code",
   "execution_count": 9,
   "metadata": {},
   "outputs": [
    {
     "data": {
      "text/html": [
       "<div>\n",
       "<style>\n",
       "    .dataframe thead tr:only-child th {\n",
       "        text-align: right;\n",
       "    }\n",
       "\n",
       "    .dataframe thead th {\n",
       "        text-align: left;\n",
       "    }\n",
       "\n",
       "    .dataframe tbody tr th {\n",
       "        vertical-align: top;\n",
       "    }\n",
       "</style>\n",
       "<table border=\"1\" class=\"dataframe\">\n",
       "  <thead>\n",
       "    <tr style=\"text-align: right;\">\n",
       "      <th></th>\n",
       "      <th>user_id</th>\n",
       "      <th>timestamp</th>\n",
       "      <th>group</th>\n",
       "      <th>landing_page</th>\n",
       "      <th>converted</th>\n",
       "    </tr>\n",
       "  </thead>\n",
       "  <tbody>\n",
       "    <tr>\n",
       "      <th>2893</th>\n",
       "      <td>773192</td>\n",
       "      <td>2017-01-14 02:55:59.590927</td>\n",
       "      <td>treatment</td>\n",
       "      <td>new_page</td>\n",
       "      <td>0</td>\n",
       "    </tr>\n",
       "  </tbody>\n",
       "</table>\n",
       "</div>"
      ],
      "text/plain": [
       "      user_id                   timestamp      group landing_page  converted\n",
       "2893   773192  2017-01-14 02:55:59.590927  treatment     new_page          0"
      ]
     },
     "execution_count": 9,
     "metadata": {},
     "output_type": "execute_result"
    }
   ],
   "source": [
    "df2[df2.user_id.duplicated()==True]"
   ]
  },
  {
   "cell_type": "markdown",
   "metadata": {},
   "source": [
    "c. What is the row information for the repeat **user_id**? "
   ]
  },
  {
   "cell_type": "code",
   "execution_count": 17,
   "metadata": {},
   "outputs": [
    {
     "data": {
      "text/html": [
       "<div>\n",
       "<style>\n",
       "    .dataframe thead tr:only-child th {\n",
       "        text-align: right;\n",
       "    }\n",
       "\n",
       "    .dataframe thead th {\n",
       "        text-align: left;\n",
       "    }\n",
       "\n",
       "    .dataframe tbody tr th {\n",
       "        vertical-align: top;\n",
       "    }\n",
       "</style>\n",
       "<table border=\"1\" class=\"dataframe\">\n",
       "  <thead>\n",
       "    <tr style=\"text-align: right;\">\n",
       "      <th></th>\n",
       "      <th>user_id</th>\n",
       "      <th>timestamp</th>\n",
       "      <th>group</th>\n",
       "      <th>landing_page</th>\n",
       "      <th>converted</th>\n",
       "    </tr>\n",
       "  </thead>\n",
       "  <tbody>\n",
       "    <tr>\n",
       "      <th>1899</th>\n",
       "      <td>773192</td>\n",
       "      <td>2017-01-09 05:37:58.781806</td>\n",
       "      <td>treatment</td>\n",
       "      <td>new_page</td>\n",
       "      <td>0</td>\n",
       "    </tr>\n",
       "    <tr>\n",
       "      <th>2893</th>\n",
       "      <td>773192</td>\n",
       "      <td>2017-01-14 02:55:59.590927</td>\n",
       "      <td>treatment</td>\n",
       "      <td>new_page</td>\n",
       "      <td>0</td>\n",
       "    </tr>\n",
       "  </tbody>\n",
       "</table>\n",
       "</div>"
      ],
      "text/plain": [
       "      user_id                   timestamp      group landing_page  converted\n",
       "1899   773192  2017-01-09 05:37:58.781806  treatment     new_page          0\n",
       "2893   773192  2017-01-14 02:55:59.590927  treatment     new_page          0"
      ]
     },
     "execution_count": 17,
     "metadata": {},
     "output_type": "execute_result"
    }
   ],
   "source": [
    "df2[df2['user_id']==773192]"
   ]
  },
  {
   "cell_type": "markdown",
   "metadata": {},
   "source": [
    "d. Remove **one** of the rows with a duplicate **user_id**, but keep your dataframe as **df2**."
   ]
  },
  {
   "cell_type": "code",
   "execution_count": 11,
   "metadata": {},
   "outputs": [],
   "source": [
    "df2=df2.drop([2893],axis=0)"
   ]
  },
  {
   "cell_type": "code",
   "execution_count": 12,
   "metadata": {},
   "outputs": [
    {
     "data": {
      "text/plain": [
       "(290584, 5)"
      ]
     },
     "execution_count": 12,
     "metadata": {},
     "output_type": "execute_result"
    }
   ],
   "source": [
    "df2.shape"
   ]
  },
  {
   "cell_type": "markdown",
   "metadata": {},
   "source": [
    "`4.` Use **df2** in the below cells to answer the quiz questions related to **Quiz 4** in the classroom.\n",
    "\n",
    "a. What is the probability of an individual converting regardless of the page they receive?"
   ]
  },
  {
   "cell_type": "code",
   "execution_count": 15,
   "metadata": {},
   "outputs": [
    {
     "data": {
      "text/plain": [
       "0.11959708724499628"
      ]
     },
     "execution_count": 15,
     "metadata": {},
     "output_type": "execute_result"
    }
   ],
   "source": [
    "df2.converted.sum()/df2.shape[0]"
   ]
  },
  {
   "cell_type": "markdown",
   "metadata": {},
   "source": [
    "b. Given that an individual was in the `control` group, what is the probability they converted?"
   ]
  },
  {
   "cell_type": "code",
   "execution_count": 16,
   "metadata": {},
   "outputs": [
    {
     "data": {
      "text/plain": [
       "0.1203863045004612"
      ]
     },
     "execution_count": 16,
     "metadata": {},
     "output_type": "execute_result"
    }
   ],
   "source": [
    "df2[df2['group']=='control'].converted.sum()/(df2['group']=='control').sum()"
   ]
  },
  {
   "cell_type": "markdown",
   "metadata": {},
   "source": [
    "c. Given that an individual was in the `treatment` group, what is the probability they converted?"
   ]
  },
  {
   "cell_type": "code",
   "execution_count": 17,
   "metadata": {},
   "outputs": [
    {
     "data": {
      "text/plain": [
       "0.11880806551510564"
      ]
     },
     "execution_count": 17,
     "metadata": {},
     "output_type": "execute_result"
    }
   ],
   "source": [
    "df2[df2['group']=='treatment'].converted.sum()/(df2['group']=='treatment').sum()"
   ]
  },
  {
   "cell_type": "markdown",
   "metadata": {},
   "source": [
    "d. What is the probability that an individual received the new page?"
   ]
  },
  {
   "cell_type": "code",
   "execution_count": 18,
   "metadata": {},
   "outputs": [
    {
     "data": {
      "text/plain": [
       "0.50006194422266881"
      ]
     },
     "execution_count": 18,
     "metadata": {},
     "output_type": "execute_result"
    }
   ],
   "source": [
    "(df2['landing_page']=='new_page').sum()/df2.shape[0]"
   ]
  },
  {
   "cell_type": "markdown",
   "metadata": {},
   "source": [
    "e. Use the results in the previous two portions of this question to suggest if you think there is evidence that one page leads to more conversions?  Write your response below."
   ]
  },
  {
   "cell_type": "markdown",
   "metadata": {},
   "source": [
    "**We can see that the difference of conversion between the two group is very small. It is hard to draw the conclusion that one page leads to more conversion**"
   ]
  },
  {
   "cell_type": "markdown",
   "metadata": {},
   "source": [
    "<a id='ab_test'></a>\n",
    "### Part II - A/B Test\n",
    "\n",
    "Notice that because of the time stamp associated with each event, you could technically run a hypothesis test continuously as each observation was observed.  \n",
    "\n",
    "However, then the hard question is do you stop as soon as one page is considered significantly better than another or does it need to happen consistently for a certain amount of time?  How long do you run to render a decision that neither page is better than another?  \n",
    "\n",
    "These questions are the difficult parts associated with A/B tests in general.  \n",
    "\n",
    "\n",
    "`1.` For now, consider you need to make the decision just based on all the data provided.  If you want to assume that the old page is better unless the new page proves to be definitely better at a Type I error rate of 5%, what should your null and alternative hypotheses be?  You can state your hypothesis in terms of words or in terms of **$p_{old}$** and **$p_{new}$**, which are the converted rates for the old and new pages."
   ]
  },
  {
   "cell_type": "markdown",
   "metadata": {},
   "source": [
    "**Null Hypothsis: p_old>=p_new; Alternative Hypothsis: p_old<p_new**"
   ]
  },
  {
   "cell_type": "markdown",
   "metadata": {},
   "source": [
    "`2.` Assume under the null hypothesis, $p_{new}$ and $p_{old}$ both have \"true\" success rates equal to the **converted** success rate regardless of page - that is $p_{new}$ and $p_{old}$ are equal. Furthermore, assume they are equal to the **converted** rate in **ab_data.csv** regardless of the page. <br><br>\n",
    "\n",
    "Use a sample size for each page equal to the ones in **ab_data.csv**.  <br><br>\n",
    "\n",
    "Perform the sampling distribution for the difference in **converted** between the two pages over 10,000 iterations of calculating an estimate from the null.  <br><br>\n",
    "\n",
    "Use the cells below to provide the necessary parts of this simulation.  If this doesn't make complete sense right now, don't worry - you are going to work through the problems below to complete this problem.  You can use **Quiz 5** in the classroom to make sure you are on the right track.<br><br>"
   ]
  },
  {
   "cell_type": "markdown",
   "metadata": {},
   "source": [
    "a. What is the **convert rate** for $p_{new}$ under the null? "
   ]
  },
  {
   "cell_type": "code",
   "execution_count": 82,
   "metadata": {},
   "outputs": [
    {
     "data": {
      "text/plain": [
       "0.11959708724499628"
      ]
     },
     "execution_count": 82,
     "metadata": {},
     "output_type": "execute_result"
    }
   ],
   "source": [
    "p_new=df2.converted.mean()\n",
    "p_new"
   ]
  },
  {
   "cell_type": "markdown",
   "metadata": {},
   "source": [
    "b. What is the **convert rate** for $p_{old}$ under the null? <br><br>"
   ]
  },
  {
   "cell_type": "code",
   "execution_count": 83,
   "metadata": {},
   "outputs": [
    {
     "data": {
      "text/plain": [
       "0.11959708724499628"
      ]
     },
     "execution_count": 83,
     "metadata": {},
     "output_type": "execute_result"
    }
   ],
   "source": [
    "p_old=df2.converted.mean()\n",
    "p_old"
   ]
  },
  {
   "cell_type": "markdown",
   "metadata": {},
   "source": [
    "c. What is $n_{new}$?"
   ]
  },
  {
   "cell_type": "code",
   "execution_count": 84,
   "metadata": {},
   "outputs": [
    {
     "data": {
      "text/plain": [
       "145310"
      ]
     },
     "execution_count": 84,
     "metadata": {},
     "output_type": "execute_result"
    }
   ],
   "source": [
    "n_new=df2.query('landing_page==\"new_page\"').shape[0]\n",
    "n_new"
   ]
  },
  {
   "cell_type": "markdown",
   "metadata": {},
   "source": [
    "d. What is $n_{old}$?"
   ]
  },
  {
   "cell_type": "code",
   "execution_count": 85,
   "metadata": {},
   "outputs": [
    {
     "data": {
      "text/plain": [
       "145274"
      ]
     },
     "execution_count": 85,
     "metadata": {},
     "output_type": "execute_result"
    }
   ],
   "source": [
    "n_old=df2.query('landing_page==\"old_page\"').shape[0]\n",
    "n_old"
   ]
  },
  {
   "cell_type": "markdown",
   "metadata": {},
   "source": [
    "e. Simulate $n_{new}$ transactions with a convert rate of $p_{new}$ under the null.  Store these $n_{new}$ 1's and 0's in **new_page_converted**."
   ]
  },
  {
   "cell_type": "code",
   "execution_count": 86,
   "metadata": {},
   "outputs": [],
   "source": [
    "new_page_converted=np.random.choice([0,1],size=n_new,p=[1-p_new,p_new])\n"
   ]
  },
  {
   "cell_type": "markdown",
   "metadata": {},
   "source": [
    "f. Simulate $n_{old}$ transactions with a convert rate of $p_{old}$ under the null.  Store these $n_{old}$ 1's and 0's in **old_page_converted**."
   ]
  },
  {
   "cell_type": "code",
   "execution_count": 87,
   "metadata": {},
   "outputs": [],
   "source": [
    "old_page_converted=np.random.choice([0,1],size=n_old,p=[1-p_old,p_old])"
   ]
  },
  {
   "cell_type": "markdown",
   "metadata": {},
   "source": [
    "g. Find $p_{new}$ - $p_{old}$ for your simulated values from part (e) and (f)."
   ]
  },
  {
   "cell_type": "code",
   "execution_count": 88,
   "metadata": {},
   "outputs": [
    {
     "data": {
      "text/plain": [
       "0.0016500034035907135"
      ]
     },
     "execution_count": 88,
     "metadata": {},
     "output_type": "execute_result"
    }
   ],
   "source": [
    "new_page_converted.mean()-old_page_converted.mean()"
   ]
  },
  {
   "cell_type": "markdown",
   "metadata": {},
   "source": [
    "h. Simulate 10,000 $p_{new}$ - $p_{old}$ values using this same process similarly to the one you calculated in parts **a. through g.** above.  Store all 10,000 values in **p_diffs**."
   ]
  },
  {
   "cell_type": "code",
   "execution_count": 89,
   "metadata": {},
   "outputs": [
    {
     "data": {
      "text/plain": [
       "[0.0012231520376180943,\n",
       " 0.00087219872188686043,\n",
       " -0.00073153064678323221,\n",
       " -7.1087290846927331e-05,\n",
       " 0.0026476108170250395,\n",
       " -0.00078695542310477928,\n",
       " -0.0015439389350206528,\n",
       " 0.00058988473037920042,\n",
       " 0.00041784558118343473,\n",
       " 0.0027301792399778285,\n",
       " -0.0025211651646178945,\n",
       " -0.00038749668806117854,\n",
       " 0.0012301106181810406,\n",
       " -0.00027745377632802659,\n",
       " 8.7375771603462327e-05,\n",
       " 0.00071383116026302318,\n",
       " 0.0011747165385537356,\n",
       " 0.0012711475507315578,\n",
       " -0.00084196920479778781,\n",
       " 0.0008582713285295307,\n",
       " -0.0017160804065305679,\n",
       " 0.00094779492130148135,\n",
       " 0.0019525604438113547,\n",
       " 0.00078229653655254028,\n",
       " -0.0012821783699122485,\n",
       " -0.00016011291502329716,\n",
       " -0.0027413993554397248,\n",
       " 0.00017694199867296367,\n",
       " 0.00068612303553200471,\n",
       " -0.00026336437263994872,\n",
       " 0.00094110578949914425,\n",
       " -6.4017861110293728e-05,\n",
       " 0.00082396275133511665,\n",
       " 0.00039027047546082161,\n",
       " 0.0013192317431839767,\n",
       " 0.0006310410389629012,\n",
       " -0.00056652170377032018,\n",
       " -0.00052496974890522963,\n",
       " 0.0011336625522841981,\n",
       " -0.001220199186168669,\n",
       " 0.00022519502294372773,\n",
       " -0.0011860901374868699,\n",
       " -6.4041736316938769e-05,\n",
       " 0.0016701748266837874,\n",
       " 0.00010092968851409256,\n",
       " 0.00079614036668662624,\n",
       " -0.00053897729474197686,\n",
       " -0.00062138541273590309,\n",
       " -0.00084869585478197784,\n",
       " 0.0011335244171600811,\n",
       " -0.0007591040471339322,\n",
       " -0.00020849043144295643,\n",
       " -0.00092415903518819342,\n",
       " -0.0013648559366668117,\n",
       " -0.0025489960761258951,\n",
       " -0.00027052248171552384,\n",
       " -0.00095193025867960912,\n",
       " -0.0016468612558601103,\n",
       " -0.0018054965608726437,\n",
       " -0.00060779738838720454,\n",
       " 0.00092018741351271305,\n",
       " 0.00022490852046408438,\n",
       " -0.0012066060457042727,\n",
       " 0.0022347669968891676,\n",
       " 0.0010785413321613285,\n",
       " -0.0023077343655158594,\n",
       " -0.00032551920968949821,\n",
       " -0.00042860354085970387,\n",
       " -0.002149496412156629,\n",
       " -0.0015852299679846582,\n",
       " 0.0014708845924269187,\n",
       " 0.0013467437501461926,\n",
       " 0.00027995470422324809,\n",
       " 0.0012712396408143117,\n",
       " -0.00033234818198785154,\n",
       " 0.001016568969905346,\n",
       " -0.00027053953543454412,\n",
       " -0.0010205798151345924,\n",
       " 0.0004315802675157604,\n",
       " 0.0010164257186655312,\n",
       " -1.9465872839741216e-06,\n",
       " -0.00023619514543016251,\n",
       " -7.7628055293738063e-05,\n",
       " -0.0003394670675096606,\n",
       " -0.00016725226500792501,\n",
       " -0.00054594610753633255,\n",
       " -0.00024983944705166128,\n",
       " 0.00070005213426123369,\n",
       " -0.00019477791494537655,\n",
       " -0.00044951680073042344,\n",
       " -0.0030926886294357775,\n",
       " 0.00032820943386592527,\n",
       " 0.0017186410224423881,\n",
       " -0.0010617327129744808,\n",
       " -0.00044956284577178651,\n",
       " 0.00062450027451609047,\n",
       " -1.6034285600138865e-05,\n",
       " 0.00091311457303228094,\n",
       " 0.001546460327378707,\n",
       " -0.00024295419748050773,\n",
       " 0.00075480328868124391,\n",
       " -9.1570796998174941e-05,\n",
       " -0.00082805033829998209,\n",
       " 0.00028708893809217817,\n",
       " 0.00020419819984977827,\n",
       " 0.0019594627471015424,\n",
       " 0.0011268369907296572,\n",
       " 0.00042459099025855818,\n",
       " 0.00028681778395965585,\n",
       " 0.0018080435338092421,\n",
       " -0.00035986871580957758,\n",
       " 0.0014432753792662512,\n",
       " 0.00019067839037718859,\n",
       " 0.00066549457276904311,\n",
       " 0.0016770327903044835,\n",
       " -0.00040096022026099576,\n",
       " 0.00044525356045958808,\n",
       " 0.00083091451041046593,\n",
       " -0.00030507322172010354,\n",
       " 0.00025245804560815321,\n",
       " 0.00056235055358225261,\n",
       " -0.0010480321340802234,\n",
       " 0.00070003337517031416,\n",
       " 0.0021657934197726741,\n",
       " -0.00091745114429492292,\n",
       " 0.00047284060378552373,\n",
       " 0.0014090537760388655,\n",
       " -0.00097240182722754809,\n",
       " -0.0023557571645797803,\n",
       " 0.00085831396282710914,\n",
       " 0.00228987286866493,\n",
       " -0.0022597900135594845,\n",
       " 0.0011474705696083443,\n",
       " 0.00069311572353300543,\n",
       " 0.0011613723823871297,\n",
       " -0.0010896625360528461,\n",
       " -0.0031130578756695532,\n",
       " -0.0011308222553803593,\n",
       " 0.00032864600907299424,\n",
       " -0.0011721678602452379,\n",
       " 0.0016633833725673008,\n",
       " -0.0012894115153515295,\n",
       " -5.0163798744784494e-05,\n",
       " -0.0014475539678842214,\n",
       " 0.00074819260398642506,\n",
       " -0.0013853650233966036,\n",
       " 0.001009844025293069,\n",
       " -0.0020875718003139504,\n",
       " 0.00032817021031215921,\n",
       " -0.00075215058268668367,\n",
       " -0.00055971319593481339,\n",
       " 0.0011334817828625304,\n",
       " -0.001874238207410367,\n",
       " 0.0015740900050022072,\n",
       " -0.00053891590135347889,\n",
       " 0.00052091968012221712,\n",
       " 0.00052770431275110663,\n",
       " 0.0010438081173631403,\n",
       " -0.00095172731942319566,\n",
       " 0.0015190148299207007,\n",
       " 0.00083068087445979655,\n",
       " -0.00064895710771473158,\n",
       " 0.00036262203874638799,\n",
       " -0.00091740339388164671,\n",
       " 0.0022694609881335759,\n",
       " -0.00048397715602416236,\n",
       " 0.00098236442039699445,\n",
       " 0.00060347616547168359,\n",
       " -0.00047002929820402772,\n",
       " -0.00046993379737746144,\n",
       " -0.0001535823828079097,\n",
       " -0.0013235973057689615,\n",
       " -0.002348981058810401,\n",
       " -0.00066302434156806367,\n",
       " 0.00089941058339419733,\n",
       " 0.0013193971642585234,\n",
       " 0.0013259686253995762,\n",
       " -0.0025695477971532515,\n",
       " -0.0012893791132853744,\n",
       " -0.00062146556521533447,\n",
       " -0.0011308631843060107,\n",
       " -0.00072488926539415743,\n",
       " 0.00091337208418958149,\n",
       " 4.5668912123791872e-06,\n",
       " -0.00084857818412069352,\n",
       " 0.0010993215730236428,\n",
       " 0.0002112420490078537,\n",
       " 0.0010302064500392338,\n",
       " 0.0015051829373899234,\n",
       " -0.0010619748757846603,\n",
       " -2.0369719948148957e-06,\n",
       " 0.00052774524167677195,\n",
       " -0.00042179332765228394,\n",
       " -0.00058046444547478482,\n",
       " 0.0010579009317950305,\n",
       " 0.00078264102167685534,\n",
       " 4.6007996903824067e-05,\n",
       " -7.0998611507985809e-05,\n",
       " 0.0016840971039254055,\n",
       " 0.0013053623324713465,\n",
       " -0.00083487248911072454,\n",
       " -0.00046333163954216661,\n",
       " 0.0017391944488416439,\n",
       " -0.0025901012235525073,\n",
       " -0.00044956796188749815,\n",
       " 0.002468671069911027,\n",
       " -0.00037387626164632481,\n",
       " -4.3176226859495404e-05,\n",
       " -0.00020843756491396859,\n",
       " 0.001691118783248749,\n",
       " -0.0012478476228831026,\n",
       " 0.00043848086543402109,\n",
       " 0.00025242734891391116,\n",
       " 0.00074822330068066711,\n",
       " -0.00091054543026095058,\n",
       " -0.00057342571243239326,\n",
       " 0.00052786973382565328,\n",
       " 0.00095465629566597598,\n",
       " -0.0011377569607366744,\n",
       " -0.00056642279219996927,\n",
       " -0.00186710567891335,\n",
       " -0.0001327884989703737,\n",
       " -0.00040120920455877229,\n",
       " 0.00019064257756722103,\n",
       " 0.0010303803979732906,\n",
       " -0.00023610987683503337,\n",
       " -6.3982048300340044e-05,\n",
       " -0.00020860128061662986,\n",
       " -0.00038753079549923297,\n",
       " -0.00012602092006051835,\n",
       " 0.0013127233808033073,\n",
       " 0.00092002369781006565,\n",
       " 0.00072069594537133019,\n",
       " -0.00089011479063869081,\n",
       " -0.0003393869150302431,\n",
       " 0.00047999359674537334,\n",
       " 0.0013195301832669287,\n",
       " -0.0017915060687549306,\n",
       " 0.00023848119646564803,\n",
       " -0.00058019158597036324,\n",
       " 0.0011129249457194623,\n",
       " 0.00074115046020024888,\n",
       " -0.0014337937009733376,\n",
       " -0.00026379412635942068,\n",
       " -0.0010068587717775024,\n",
       " 4.7016155926976611e-06,\n",
       " -0.0010138071201090393,\n",
       " -0.0010893879711765392,\n",
       " -0.0008486685688315343,\n",
       " 0.0012780993098069071,\n",
       " 0.00050034578926012874,\n",
       " -0.001144909953696524,\n",
       " -0.0011309143454631132,\n",
       " 0.00098902967699270039,\n",
       " 0.0016496964366482514,\n",
       " 0.0013606285092059439,\n",
       " 0.00089293632845161008,\n",
       " -0.0017777764985383165,\n",
       " -0.0018813485660726659,\n",
       " 0.0011540931919064717,\n",
       " -0.00011887815933207813,\n",
       " 0.0015810110673833006,\n",
       " 0.0012779355941042458,\n",
       " -0.0011859468862470413,\n",
       " 0.00085147305292541942,\n",
       " -0.00069721183735739489,\n",
       " 0.00022499037831540114,\n",
       " 0.0011060618659830546,\n",
       " 0.0013536716340148969,\n",
       " -0.0012478339799078808,\n",
       " 0.00080306654518341736,\n",
       " -0.0010621385914873216,\n",
       " 0.0020078197990583552,\n",
       " -0.00091083363811250706,\n",
       " 0.00091319643088361158,\n",
       " -0.00027732246269153438,\n",
       " 0.0013811529442828568,\n",
       " -0.0018674399318062695,\n",
       " -0.00012615223369701056,\n",
       " 0.0018425072998467934,\n",
       " -0.00097271902640143348,\n",
       " 0.00023189609234937347,\n",
       " -0.00087618057579375019,\n",
       " -0.00096562401608626947,\n",
       " -0.0023149265820294751,\n",
       " 0.00014919123964436676,\n",
       " -0.00023596833096711789,\n",
       " 0.0017115306637800892,\n",
       " -0.0010277396295820668,\n",
       " 0.00014924240080145534,\n",
       " -0.00062842414577829464,\n",
       " 0.00062414896790413676,\n",
       " 0.0017117625943588594,\n",
       " 0.00042474447372979618,\n",
       " 0.00037621517921081205,\n",
       " 0.001835417405647341,\n",
       " -0.00032566587167312533,\n",
       " -0.0027688277991787108,\n",
       " 0.00057625066098912492,\n",
       " -0.00095195242851434103,\n",
       " -0.00085593411633697047,\n",
       " 4.5939782027729081e-05,\n",
       " 0.00017678169371411478,\n",
       " -0.0014614063248778175,\n",
       " 0.0025996084824239651,\n",
       " 0.0011747455298760784,\n",
       " 0.0018285816118613768,\n",
       " 0.0017942849722702714,\n",
       " -0.00042200308839629441,\n",
       " -0.0019155002490520434,\n",
       " -8.4908951146281386e-05,\n",
       " -0.00095208544752274638,\n",
       " -0.00071129612492976113,\n",
       " 0.00053465607182644204,\n",
       " -0.0010000946036114455,\n",
       " 0.00023175966259716962,\n",
       " -0.0027897547020246521,\n",
       " 0.001587741128111303,\n",
       " 0.00093388458166318578,\n",
       " -0.0011720808862782234,\n",
       " -9.1567386254362559e-05,\n",
       " 0.00037645734202097769,\n",
       " -0.0012342647146501018,\n",
       " 0.00019068521186479948,\n",
       " 0.00010786609924232082,\n",
       " -0.0018465334934231609,\n",
       " -0.00089015401419245688,\n",
       " 8.0526334842262459e-05,\n",
       " 0.00069946889707053761,\n",
       " -0.0032992188306195241,\n",
       " -5.6970601208405913e-05,\n",
       " -0.0013441080978706527,\n",
       " 0.0017256985145756992,\n",
       " -0.0019843476286477285,\n",
       " 0.00072026278090805973,\n",
       " -0.00055263523933866965,\n",
       " -0.00082077114781932414,\n",
       " -0.001371746302353663,\n",
       " 0.0012712908019713864,\n",
       " -0.0015094888119583233,\n",
       " -0.00063531621683703132,\n",
       " -0.0032989016314456387,\n",
       " 0.0017943122582207288,\n",
       " -0.0026106682929269986,\n",
       " 0.002674996626466461,\n",
       " 0.00080984776706849448,\n",
       " -0.0014960014045518749,\n",
       " -0.00047698958413887327,\n",
       " -0.00081415705238070679,\n",
       " 0.00021115848578462382,\n",
       " 0.00082370694554972923,\n",
       " -0.00046328729987270278,\n",
       " 0.0012230923496014956,\n",
       " 0.001773787823143802,\n",
       " 0.0014981459097194449,\n",
       " 0.0022689920108603517,\n",
       " -0.00017424665838083886,\n",
       " -0.0015506741118643669,\n",
       " 0.0002801593488515608,\n",
       " -0.0016192366943523079,\n",
       " 0.00039008629529532768,\n",
       " 0.00019745961226226572,\n",
       " -0.00109638918603705,\n",
       " -0.002411507666934723,\n",
       " -0.0006835521873887751,\n",
       " -0.0016676926578794993,\n",
       " 0.0010027745955564354,\n",
       " 0.0015948890049554409,\n",
       " -0.00013293175021020232,\n",
       " -0.00029145450067716294,\n",
       " 0.00079586750718220467,\n",
       " -4.3150646280964988e-05,\n",
       " 0.00080314328691903636,\n",
       " 0.00067960273554802664,\n",
       " -0.001213244016349535,\n",
       " 0.0016083678855023792,\n",
       " -0.00016742450757009641,\n",
       " -0.00067000679733764112,\n",
       " -0.0004424388441342797,\n",
       " 0.00098903308773651277,\n",
       " -0.0007522170921908794,\n",
       " -0.00039429155292149132,\n",
       " 0.0013607888141647928,\n",
       " -0.00078666380450941042,\n",
       " -0.0012822244149536116,\n",
       " 0.00043834102493800486,\n",
       " -0.00031866124606880208,\n",
       " -0.0018327101277519076,\n",
       " 0.00050745785329431303,\n",
       " 0.0015806699930027701,\n",
       " -0.0013237047441988226,\n",
       " -0.00119985893125725,\n",
       " -0.0015025165884201552,\n",
       " -0.0016334591170487911,\n",
       " 0.0015807058058127238,\n",
       " -0.00066977486675888487,\n",
       " -0.0011927724478015961,\n",
       " 0.00072039068380076732,\n",
       " 0.0015740729512831869,\n",
       " 0.00078945123488428914,\n",
       " 0.00010784563477948816,\n",
       " -0.00022223023389099372,\n",
       " 0.0014914039113881339,\n",
       " -0.00042842106606610919,\n",
       " 3.9047710968964644e-05,\n",
       " -0.0017296394395569237,\n",
       " -0.00075209771615770971,\n",
       " 0.0039484727677882026,\n",
       " -0.00088293451172838378,\n",
       " -0.00039447061697125974,\n",
       " 0.00037637207342584855,\n",
       " 0.00017675270239177199,\n",
       " -0.00080070716315612522,\n",
       " 7.356093279170528e-05,\n",
       " -0.0016470727219760339,\n",
       " 0.0028680121342933296,\n",
       " 0.0028475985483900901,\n",
       " 0.00246180628480272,\n",
       " -0.0030650026745394909,\n",
       " 0.00084427401492420673,\n",
       " -0.0002430445821913485,\n",
       " 0.0017669707884487712,\n",
       " -0.0012892614426241039,\n",
       " -0.0014682250649447476,\n",
       " -0.00081426790155438022,\n",
       " -0.0013855799002563535,\n",
       " -0.00049781075392685281,\n",
       " -5.6979128067916052e-05,\n",
       " -0.0012339270510133837,\n",
       " -0.00055253462239641948,\n",
       " 0.0010510276198272134,\n",
       " 0.001312414708488932,\n",
       " 0.0011198221328939106,\n",
       " -0.00074543416493390302,\n",
       " 0.00065182980668472557,\n",
       " -0.0032989851946688686,\n",
       " 0.0007414761862336583,\n",
       " 0.00096807719356821476,\n",
       " 0.001099154446577183,\n",
       " -0.0031199345983811688,\n",
       " -0.0005254387261784399,\n",
       " -0.0020189410029498867,\n",
       " -0.0028516707870078206,\n",
       " -0.00070409367618472218,\n",
       " 0.00010097573355546952,\n",
       " -8.4683842055136016e-05,\n",
       " -0.0012067356539688795,\n",
       " -0.0016817377218980994,\n",
       " 0.00081009504599438564,\n",
       " -0.00030462811965352443,\n",
       " 0.00091338231642100476,\n",
       " 0.00082378709802914674,\n",
       " 0.00153977972243588,\n",
       " 0.0013811648818861794,\n",
       " 0.0016841260952477483,\n",
       " -0.00030500159610019617,\n",
       " 0.00083063994553413123,\n",
       " 0.00055543119657305851,\n",
       " 0.00049354069216842045,\n",
       " 0.001697814736538697,\n",
       " -0.00059383588759183425,\n",
       " 0.00068609574958157504,\n",
       " 0.0011265863010599675,\n",
       " 0.0011610432456099079,\n",
       " 0.0014294537189668971,\n",
       " -0.00025677244703606328,\n",
       " 0.00029402023270469479,\n",
       " -0.0008071831234706256,\n",
       " -0.0015439201759297333,\n",
       " 0.0031087485903573409,\n",
       " -0.0013371034722663294,\n",
       " -0.00011902993743141688,\n",
       " -0.0022045749979819479,\n",
       " -0.0013718673837587597,\n",
       " -2.1597587718108491e-06,\n",
       " 0.0011267466060188164,\n",
       " -0.00094529569877815911,\n",
       " -0.00034639836212217723,\n",
       " -0.00038084848518450676,\n",
       " 0.002792380122068755,\n",
       " -0.00073852845089993069,\n",
       " 0.00045199214804710064,\n",
       " -0.00052506354435985503,\n",
       " -0.0013651134478241123,\n",
       " -0.00097256554293019548,\n",
       " -0.0001534135509895368,\n",
       " -0.00071102667616913806,\n",
       " 0.0021449398479185533,\n",
       " 0.00010791896577129478,\n",
       " -0.00067680677831365166,\n",
       " 0.0009751875522304998,\n",
       " 0.0014087911487658672,\n",
       " -0.00049768796714985686,\n",
       " -0.0011929446903637536,\n",
       " 0.001215901838459793,\n",
       " -2.9739980610135608e-05,\n",
       " -0.0010345822448556419,\n",
       " -0.00082819017879598444,\n",
       " 0.00081041395054018417,\n",
       " -0.00090393474556614561,\n",
       " -0.00010514006225595396,\n",
       " 0.0016908766204385695,\n",
       " -0.00056679456327474176,\n",
       " -2.134178193266556e-06,\n",
       " 0.0022349955167241253,\n",
       " -0.00097941497969139535,\n",
       " -0.00021544560126210421,\n",
       " 0.00091314697509843612,\n",
       " -8.4897013542972743e-05,\n",
       " -0.001371869089130659,\n",
       " 0.00044567649269144916,\n",
       " -0.0011102875880720231,\n",
       " -0.0022387676098869908,\n",
       " -0.00051153009191205745,\n",
       " -0.0019431486857664632,\n",
       " 0.00085117972895817906,\n",
       " -8.8676496650813563e-06,\n",
       " 0.0012989903998428809,\n",
       " -0.00059385635205468079,\n",
       " -0.00040142749216230678,\n",
       " -0.0015094751689831015,\n",
       " 0.00099586547077866461,\n",
       " 0.00048647808391938385,\n",
       " 0.00045892855877531502,\n",
       " -0.00084157014777257177,\n",
       " 0.00040389942873518547,\n",
       " -2.2883722361338732e-05,\n",
       " -0.00041508373138710031,\n",
       " -8.4364937509351368e-05,\n",
       " 0.00087879917435025601,\n",
       " -0.0010343673679959059,\n",
       " 0.00065871505625585136,\n",
       " -0.0006008814421218367,\n",
       " -0.0025279975476600464,\n",
       " 8.7353601768716538e-05,\n",
       " 0.0020006037073381083,\n",
       " 0.00065870311865254272,\n",
       " -0.0024729820605951247,\n",
       " 0.00075513242545845183,\n",
       " -0.00040112905207934091,\n",
       " 0.00034895727266208432,\n",
       " -0.001461072071984898,\n",
       " 0.00042469842868843311,\n",
       " 4.8909118738893476e-06,\n",
       " 0.00011478545625151493,\n",
       " 0.0010920270341958638,\n",
       " 0.0013742557571084085,\n",
       " -0.0018191698538164713,\n",
       " 0.00014943340245456016,\n",
       " -0.00090390234349999043,\n",
       " 0.00065877474427245009,\n",
       " 0.00034909370241428817,\n",
       " -0.00058715016653330954,\n",
       " -0.0018808676511961331,\n",
       " 0.0015603058628847061,\n",
       " -0.0021015401225969316,\n",
       " 0.0013538012422794898,\n",
       " 0.0021453542532908904,\n",
       " 0.001635779275522331,\n",
       " -0.0028036172912496715,\n",
       " 0.00030065649797804406,\n",
       " -0.00060086097765900404,\n",
       " 0.0015808183603583104,\n",
       " 0.001622256055305929,\n",
       " 0.00098879945178584339,\n",
       " 0.00015611741814118563,\n",
       " 0.0012440567706292899,\n",
       " -0.0014612664843818013,\n",
       " 0.0012847986738406536,\n",
       " -0.00059384782519515678,\n",
       " -0.0014819290545828312,\n",
       " 7.3412565436178912e-05,\n",
       " 0.00056920681183103561,\n",
       " 0.0016289980536372678,\n",
       " 0.0011268352853577579,\n",
       " -0.0015988691534904453,\n",
       " -0.0019016990532155081,\n",
       " 0.00022499890517492516,\n",
       " -0.0017574447704863938,\n",
       " -0.00060794063962703315,\n",
       " -2.9693935568758656e-05,\n",
       " 0.00092017035979367889,\n",
       " -0.00052511129477313123,\n",
       " -0.00051151815430873493,\n",
       " -0.0022872917882902771,\n",
       " 0.00032863918758538335,\n",
       " 0.00054161124164558982,\n",
       " -0.00099346174908189477,\n",
       " 0.001291682218039894,\n",
       " 0.00081698711705315008,\n",
       " -0.0016883808086590735,\n",
       " 0.00054171868007546475,\n",
       " 0.00045896266621338333,\n",
       " 0.00017680215817693357,\n",
       " 0.0014775839564606652,\n",
       " -0.00022222000165957045,\n",
       " 0.0021382762966947605,\n",
       " -0.00064228844037522714,\n",
       " 0.00096164386755127895,\n",
       " -0.0021081627448950591,\n",
       " 0.00025255354643470562,\n",
       " 0.00055548747384583097,\n",
       " 0.00047971221038144163,\n",
       " 4.5932960540118195e-05,\n",
       " 0.0020627687766190672,\n",
       " -0.0010551493142301194,\n",
       " 0.00014267605577610032,\n",
       " 0.0011199807324808603,\n",
       " 0.00029372349799362818,\n",
       " -0.0010827056608617991,\n",
       " 0.00095446358864098579,\n",
       " -0.0012342664200220149,\n",
       " -0.0012821340302427847,\n",
       " -0.00066296465355146494,\n",
       " 0.0029437396473444566,\n",
       " -0.0028857099154416255,\n",
       " 9.4365048860650669e-05,\n",
       " -0.001357863248665811,\n",
       " -1.6112732707670996e-05,\n",
       " 0.00052809825366061103,\n",
       " 0.00061047738033222221,\n",
       " -0.00064202922384601346,\n",
       " 0.0019458320884552655,\n",
       " 0.0010095677550448351,\n",
       " -0.0027551579169786816,\n",
       " 0.0011817211641580727,\n",
       " 0.00065863490377643386,\n",
       " -0.0016262754273946994,\n",
       " 0.0018768107609255097,\n",
       " -0.00060108438137823628,\n",
       " 0.00037625269739266498,\n",
       " 0.0011610909960231841,\n",
       " -6.414917474679982e-05,\n",
       " -0.00070423863279645005,\n",
       " -0.0021013576478033508,\n",
       " 0.001002786533159758,\n",
       " 0.00048668443391960969,\n",
       " -0.00017406588895915731,\n",
       " 0.00010081713396851988,\n",
       " -0.00027065038460821755,\n",
       " 0.0027922147009941944,\n",
       " -0.00024310768095174573,\n",
       " 0.0010989566234364673,\n",
       " -4.3469550826749637e-05,\n",
       " 0.00032152371280738667,\n",
       " 0.00048651730747314992,\n",
       " 0.00082399174265745945,\n",
       " 0.0013743751331415782,\n",
       " 0.0015601796653639116,\n",
       " 0.0001699066763743845,\n",
       " -0.0011859707614536724,\n",
       " 0.00090643055734565547,\n",
       " -0.00075925241448945857,\n",
       " 0.00010786609924232082,\n",
       " 0.0012230974657172072,\n",
       " -0.001612557794781394,\n",
       " 0.0015462369236594609,\n",
       " 0.00034884471811651163,\n",
       " -8.9750880949424072e-06,\n",
       " 0.00099585864929105372,\n",
       " -0.0010209464700936671,\n",
       " -0.00045615136063187345,\n",
       " -5.7154781373899843e-05,\n",
       " 0.00038315670605473806,\n",
       " -4.3498542149092434e-05,\n",
       " -0.0017987102228718688,\n",
       " 0.0012918988002715293,\n",
       " 0.00011493893972275293,\n",
       " -0.00022937128924752082,\n",
       " -0.001096373837689929,\n",
       " 0.00079636547577777161,\n",
       " 0.00081012062657292994,\n",
       " -0.00025664795488716807,\n",
       " -0.00033272165843453716,\n",
       " -0.0015439304081611427,\n",
       " 0.00095452157128567139,\n",
       " 0.00047260355709105584,\n",
       " 0.00063095065425204655,\n",
       " -0.0018948888400080882,\n",
       " -0.0010690050819675279,\n",
       " 0.0011263475489936003,\n",
       " 0.00079613013445520298,\n",
       " -0.00027047132055844914,\n",
       " 0.00089981646190703812,\n",
       " 0.00079645756586051164,\n",
       " 0.0019252394385022437,\n",
       " -0.0010001321217932985,\n",
       " -0.0002358557764215452,\n",
       " 0.0019733168094670378,\n",
       " 0.00025920345468327666,\n",
       " 8.7220582760311194e-05,\n",
       " -0.0025970274020493123,\n",
       " 0.0015049902303649193,\n",
       " 0.00098878751418252087,\n",
       " -3.6517791751400352e-05,\n",
       " -7.7851459012970303e-05,\n",
       " -0.0012958977078974532,\n",
       " 0.0025101241132057805,\n",
       " 0.00048662474590302485,\n",
       " -0.00075232111987695582,\n",
       " -0.00080739288421464994,\n",
       " 0.0021934725531813498,\n",
       " 0.00022493751178642718,\n",
       " 0.001168201354685483,\n",
       " -0.0016608977930192004,\n",
       " -0.00020866949549273872,\n",
       " -0.0027552056673919578,\n",
       " 0.00078270241506535332,\n",
       " 8.7440575735758808e-05,\n",
       " -5.0278058662270309e-05,\n",
       " -0.0025347924125203453,\n",
       " 0.00020440284447810486,\n",
       " 0.0026063590076147863,\n",
       " 0.001924773871972818,\n",
       " -0.0006079832739246116,\n",
       " 0.0010784731172852197,\n",
       " -0.00039443480416130605,\n",
       " -0.00038075980584556524,\n",
       " 0.0016224402354714229,\n",
       " 0.0011266647481674857,\n",
       " 0.00094758686592935626,\n",
       " 0.00015616857929826033,\n",
       " 0.0016702004072623178,\n",
       " 0.0016015832528734897,\n",
       " 0.00037639424326058046,\n",
       " 0.0010508280913145984,\n",
       " -0.00057328587193639091,\n",
       " -0.00089695399516846741,\n",
       " -0.00040132175910434498,\n",
       " 0.0001218531806162354,\n",
       " 0.0019180045876910634,\n",
       " -0.00012596293741581888,\n",
       " 0.0013194142179775575,\n",
       " -0.0004633094697074347,\n",
       " -0.00049095108493424355,\n",
       " 0.0011129095973723274,\n",
       " -0.0016195266075757636,\n",
       " -0.00019481031701150398,\n",
       " -0.0007041022030442462,\n",
       " 0.00054165217057125514,\n",
       " 0.001849131627516834,\n",
       " 0.0019115303327484623,\n",
       " -0.00051808620470598921,\n",
       " -0.0010344424043596118,\n",
       " -0.00055951025667838605,\n",
       " 0.00044538487409609417,\n",
       " -0.00064910206432644557,\n",
       " 0.00036933675112726938,\n",
       " 0.00032848399874223222,\n",
       " -0.0010273832068544014,\n",
       " -0.0019088128226215917,\n",
       " 0.00011482979592097875,\n",
       " -0.0015851208241828979,\n",
       " 0.0025099382276683874,\n",
       " -0.0010757999468278268,\n",
       " 0.00084424161285806543,\n",
       " -0.00046304854780633564,\n",
       " 0.00058270104072509488,\n",
       " 8.0802605090496415e-05,\n",
       " -0.0019842998782344662,\n",
       " 0.001464045387897156,\n",
       " 0.0030743888520058521,\n",
       " 0.0004522718290391331,\n",
       " -0.0012891113698966644,\n",
       " 0.002964398806801688,\n",
       " 0.00012844169547630846,\n",
       " 0.00033512367475939386,\n",
       " -0.0013716746767337556,\n",
       " 0.00032124062107154183,\n",
       " -0.0018742416181541793,\n",
       " -0.00069002303158757772,\n",
       " 0.0010237151413775986,\n",
       " -0.00068366133119054928,\n",
       " 0.00041095692086849656,\n",
       " -0.00042189564996643336,\n",
       " 0.00031434343389709352,\n",
       " -0.00050466871754754894,\n",
       " 0.001223211725634693,\n",
       " -0.0011654036920791949,\n",
       " -0.0006215440123228666,\n",
       " -0.00042893949912452267,\n",
       " -0.00053883915961785989,\n",
       " 0.00056896805976466847,\n",
       " 0.00038346708374101257,\n",
       " 8.0613308809304729e-05,\n",
       " 1.1501596568694317e-05,\n",
       " -0.00097252461400454404,\n",
       " -0.00043587932059653556,\n",
       " -0.0028034638077784335,\n",
       " 0.00020406006472566129,\n",
       " -0.00029137093745393305,\n",
       " 4.8022325349478256e-06,\n",
       " 0.0012298735714865866,\n",
       " 0.00039009482215485169,\n",
       " 0.0012298019458666654,\n",
       " -0.00097932118423674219,\n",
       " -0.0015233036507700665,\n",
       " 0.0018976865026143763,\n",
       " 4.8261077415789888e-06,\n",
       " 0.00094078006346573484,\n",
       " -0.00066977316138698562,\n",
       " 0.00064474161785715856,\n",
       " 0.0007343965242656153,\n",
       " -0.001440593681949362,\n",
       " -0.00060799350615600711,\n",
       " -0.00029137434819774544,\n",
       " 0.00043837683774795855,\n",
       " -0.001461087420332019,\n",
       " 0.00065866389509877665,\n",
       " -0.00097243593466558864,\n",
       " -0.0011859059573213759,\n",
       " 0.0021040035323103001,\n",
       " -0.00057310680788659474,\n",
       " -0.00095205986694421596,\n",
       " 0.00080986141004373013,\n",
       " -0.00049789602252198195,\n",
       " -0.00064228502963141476,\n",
       " -0.00057328928268018942,\n",
       " -0.0021496362526526591,\n",
       " 0.00056932618786421918,\n",
       " 0.001574149693018792,\n",
       " -0.0019637549786947067,\n",
       " 0.00056901069406223304,\n",
       " 0.00042461998158090097,\n",
       " 0.00081708091250777548,\n",
       " -0.00088309822743104505,\n",
       " -0.00085567489980777067,\n",
       " -0.0022182977467109649,\n",
       " 0.00033515607682554904,\n",
       " 0.00019763185482443713,\n",
       " -0.00011217708992641851,\n",
       " -0.0015233104722576774,\n",
       " 0.00035568903876198599,\n",
       " -0.00062166168298413704,\n",
       " -0.00047040448002259871,\n",
       " 0.00089265323671576524,\n",
       " 0.00075513242545845183,\n",
       " -0.0012479635881724876,\n",
       " -0.0019980379753105904,\n",
       " 0.0012095384326908654,\n",
       " 0.00036973239740868691,\n",
       " 5.9819424971768731e-05,\n",
       " -0.001784835696043513,\n",
       " 0.0018423452895160453,\n",
       " -7.0724046631664983e-05,\n",
       " 0.0029022968362811125,\n",
       " -0.00060775134334584147,\n",
       " 0.0013330124745576516,\n",
       " -0.00035283509888291154,\n",
       " 0.00044526038194719897,\n",
       " 0.0015189977762016665,\n",
       " 0.00016999023959761439,\n",
       " -0.0023906251037582593,\n",
       " 4.6314963846300072e-05,\n",
       " -0.00086946756878478193,\n",
       " -0.00028410027383279912,\n",
       " 3.2604152720605573e-05,\n",
       " 0.0011196191936375111,\n",
       " -0.00060087973674992357,\n",
       " 0.002365644721385507,\n",
       " 0.0013191515907045454,\n",
       " 0.0022829910298375888,\n",
       " -0.00022907284916456883,\n",
       " -0.00082793437301059702,\n",
       " -0.00011215662546358585,\n",
       " 0.0015325431662528005,\n",
       " -0.0017709475262399632,\n",
       " 0.00062450197988797584,\n",
       " -0.0021221157188309331,\n",
       " 0.0020973792046402595,\n",
       " -0.00074529261906598754,\n",
       " -0.0025967391941977697,\n",
       " 0.0020630109394292467,\n",
       " -0.00069043573158801552,\n",
       " 0.0009475953927888664,\n",
       " -0.0011103609190638297,\n",
       " 0.0011750439699590443,\n",
       " 0.00043145748073876444,\n",
       " -0.00052514881295499805,\n",
       " 0.00047288835419878605,\n",
       " -0.00014682503612946374,\n",
       " -0.00055299507281013349,\n",
       " 0.0010508775470997739,\n",
       " -0.0003601876203553761,\n",
       " 0.00095443118657483061,\n",
       " 0.00081707750176397698,\n",
       " -9.1480412287334167e-05,\n",
       " -0.0023626168335723757,\n",
       " 0.0018012725441555882,\n",
       " 8.74832100333095e-05,\n",
       " 0.00058971930930463989,\n",
       " -0.0022320989425474863,\n",
       " -0.0013168177892557836,\n",
       " -2.2731944261999981e-05,\n",
       " -0.0021564788679262342,\n",
       " 0.0010507206528847235,\n",
       " -0.00049764703822420542,\n",
       " 0.000514215199972759,\n",
       " 9.4167225719934966e-05,\n",
       " -0.0015854090320344405,\n",
       " -0.00084863275602158061,\n",
       " -0.00074553478187616706,\n",
       " -0.0011586361131693396,\n",
       " 0.000459143435635051,\n",
       " 0.0017529427781491913,\n",
       " -6.4101424333523616e-05,\n",
       " -0.00062155424455427599,\n",
       " -0.00022189598099807417,\n",
       " -0.00096565300740861226,\n",
       " -0.0021083963808457284,\n",
       " 0.0018493584419798786,\n",
       " 3.2501830406456156e-05,\n",
       " -0.00045644297922721455,\n",
       " 0.0031639005071744664,\n",
       " 0.0015672286306377126,\n",
       " -9.8263339544324424e-05,\n",
       " -0.0003944979029216894,\n",
       " -0.00077961483923562336,\n",
       " -0.00058725931033506984,\n",
       " 0.0021249577211066711,\n",
       " -0.0023214264175506344,\n",
       " 0.00089983181025415915,\n",
       " 0.0004044008080745648,\n",
       " -0.00071116140054944266,\n",
       " 8.7481504661424125e-05,\n",
       " 0.0001697975325726242,\n",
       " -0.0017158791726460537,\n",
       " 0.00034217264003319481,\n",
       " 0.00032142139049322338,\n",
       " -0.00039429155292149132,\n",
       " 0.00081698882242503545,\n",
       " 0.0019803555425094155,\n",
       " 0.0013812791418036513,\n",
       " -0.00020836593929406122,\n",
       " -0.00058702396901251508,\n",
       " -0.0016057288224830407,\n",
       " 0.00083750814138625063,\n",
       " 0.0028542740372172054,\n",
       " -0.0012755659798455304,\n",
       " -0.00075919443184477298,\n",
       " -0.0011514626557466434,\n",
       " -0.00065605552877369411,\n",
       " 0.0010715145367222734,\n",
       " -0.0013580218482527606,\n",
       " -9.1400259807902784e-05,\n",
       " -0.00047017937093145334,\n",
       " 0.00036961643211930184,\n",
       " -0.0027414880347786524,\n",
       " 0.001133454496912073,\n",
       " 0.00058293638204766351,\n",
       " 0.0026271631236837456,\n",
       " 0.00076189829899640793,\n",
       " 0.00018384771270693601,\n",
       " -0.0010965989467810744,\n",
       " -0.00058013360332566377,\n",
       " 6.6788237766138292e-05,\n",
       " -0.00058027514919359313,\n",
       " 0.00024555574231799326,\n",
       " -0.00099997352220634883,\n",
       " -0.0035604336767190853,\n",
       " -0.0022595342077740832,\n",
       " -0.00024983433093593577,\n",
       " 0.0003143638983599123,\n",
       " -0.00053877947160126116,\n",
       " -0.0007935166520144088,\n",
       " 8.0727568726776666e-05,\n",
       " 0.0018283650296297416,\n",
       " -0.0011445091912994088,\n",
       " 0.00081670573068920449,\n",
       " -0.001784782829514539,\n",
       " -0.00045642422013629502,\n",
       " -5.725710368804926e-05,\n",
       " -0.0008073809466113413,\n",
       " 6.0126391914244737e-05,\n",
       " 0.003480659505628772,\n",
       " 0.00067221099052180988,\n",
       " 0.00076870510146002935,\n",
       " 0.00025948825179102075,\n",
       " -0.00053909496540324731,\n",
       " -0.00028435607961820042,\n",
       " 0.00025929213402221818,\n",
       " -0.00039425403473961063,\n",
       " 0.0023722997457497896,\n",
       " -0.00019495697899514497,\n",
       " 0.00039012551884909374,\n",
       " -0.00052514199146738716,\n",
       " -0.0013651015102208036,\n",
       " 0.00033524475616449056,\n",
       " -0.00036008870878502519,\n",
       " 0.0027164854825711821,\n",
       " -0.0011514131999614818,\n",
       " 0.0009892053302986703,\n",
       " -0.0027621540157234808,\n",
       " -0.0011376938619762772,\n",
       " -5.0371854116909587e-05,\n",
       " -0.00044282596355618709,\n",
       " 0.0021658633400206961,\n",
       " 0.00013559809917997045,\n",
       " -0.00052523237617822793,\n",
       " 0.00056923580315337841,\n",
       " ...]"
      ]
     },
     "execution_count": 89,
     "metadata": {},
     "output_type": "execute_result"
    }
   ],
   "source": [
    "p_diffs=[]\n",
    "for i in range(10000):\n",
    "    new_page_converted=np.random.choice([0,1],size=n_new,p=[1-p_new,p_new])\n",
    "    old_page_converted=np.random.choice([0,1],size=n_old,p=[1-p_old,p_old])\n",
    "    diff=new_page_converted.mean()-old_page_converted.mean()\n",
    "    p_diffs.append(diff)\n",
    "p_diffs"
   ]
  },
  {
   "cell_type": "markdown",
   "metadata": {},
   "source": [
    "i. Plot a histogram of the **p_diffs**.  Does this plot look like what you expected?  Use the matching problem in the classroom to assure you fully understand what was computed here."
   ]
  },
  {
   "cell_type": "code",
   "execution_count": 90,
   "metadata": {},
   "outputs": [],
   "source": [
    "p_diffs_std=np.std(p_diffs)"
   ]
  },
  {
   "cell_type": "code",
   "execution_count": 91,
   "metadata": {},
   "outputs": [],
   "source": [
    "null=np.random.normal(0,p_diffs_std,len(p_diffs))"
   ]
  },
  {
   "cell_type": "code",
   "execution_count": 92,
   "metadata": {},
   "outputs": [
    {
     "data": {
      "text/plain": [
       "0.11880806551510564"
      ]
     },
     "execution_count": 92,
     "metadata": {},
     "output_type": "execute_result"
    }
   ],
   "source": [
    "ob_new=df2.query('landing_page==\"new_page\"').converted.mean()\n",
    "ob_new"
   ]
  },
  {
   "cell_type": "code",
   "execution_count": 93,
   "metadata": {},
   "outputs": [
    {
     "data": {
      "text/plain": [
       "0.1203863045004612"
      ]
     },
     "execution_count": 93,
     "metadata": {},
     "output_type": "execute_result"
    }
   ],
   "source": [
    "ob_old=df2.query('landing_page==\"old_page\"').converted.mean()\n",
    "ob_old"
   ]
  },
  {
   "cell_type": "code",
   "execution_count": 94,
   "metadata": {},
   "outputs": [
    {
     "data": {
      "text/plain": [
       "-0.0015782389853555567"
      ]
     },
     "execution_count": 94,
     "metadata": {},
     "output_type": "execute_result"
    }
   ],
   "source": [
    "ob_diff=ob_new-ob_old\n",
    "ob_diff"
   ]
  },
  {
   "cell_type": "code",
   "execution_count": 95,
   "metadata": {},
   "outputs": [
    {
     "data": {
      "text/plain": [
       "<matplotlib.lines.Line2D at 0x7f9f8775e550>"
      ]
     },
     "execution_count": 95,
     "metadata": {},
     "output_type": "execute_result"
    },
    {
     "data": {
      "image/png": "[encoded data removed]",
      "text/plain": [
       "<matplotlib.figure.Figure at 0x7f9f8775e7f0>"
      ]
     },
     "metadata": {},
     "output_type": "display_data"
    }
   ],
   "source": [
    "plt.hist(null)\n",
    "plt.axvline(x=ob_diff,color='red')\n"
   ]
  },
  {
   "cell_type": "markdown",
   "metadata": {},
   "source": [
    "j. What proportion of the **p_diffs** are greater than the actual difference observed in **ab_data.csv**?"
   ]
  },
  {
   "cell_type": "code",
   "execution_count": 96,
   "metadata": {},
   "outputs": [
    {
     "data": {
      "text/plain": [
       "0.89900000000000002"
      ]
     },
     "execution_count": 96,
     "metadata": {},
     "output_type": "execute_result"
    }
   ],
   "source": [
    "p_value=((null>ob_diff)).mean()\n",
    "p_value"
   ]
  },
  {
   "cell_type": "markdown",
   "metadata": {},
   "source": [
    "k. In words, explain what you just computed in part **j.**.  What is this value called in scientific studies?  What does this value mean in terms of whether or not there is a difference between the new and old pages?"
   ]
  },
  {
   "cell_type": "markdown",
   "metadata": {},
   "source": [
    "**The null hypothesis is p_diffs<=0 and alternative hypothesis is p_diffs is > 0. From the histogram plot, we can see that the probabitly that is more extreme than what we observe is 89.9% which is more than 5%. It means we fail to reject the null hypothesis. Therefore, there is no difference between the new and old pages.\n",
    "Also we can see it is not practical significant, since the difference of the conversion between those two group is very small.**"
   ]
  },
  {
   "cell_type": "markdown",
   "metadata": {},
   "source": [
    "l. We could also use a built-in to achieve similar results.  Though using the built-in might be easier to code, the above portions are a walkthrough of the ideas that are critical to correctly thinking about statistical significance. Fill in the below to calculate the number of conversions for each page, as well as the number of individuals who received each page. Let `n_old` and `n_new` refer the the number of rows associated with the old page and new pages, respectively."
   ]
  },
  {
   "cell_type": "code",
   "execution_count": 34,
   "metadata": {},
   "outputs": [
    {
     "name": "stderr",
     "output_type": "stream",
     "text": [
      "/opt/conda/lib/python3.6/site-packages/statsmodels/compat/pandas.py:56: FutureWarning: The pandas.core.datetools module is deprecated and will be removed in a future version. Please use the pandas.tseries module instead.\n",
      "  from pandas.core import datetools\n"
     ]
    },
    {
     "data": {
      "text/plain": [
       "(17489, 17264, 145274, 145310)"
      ]
     },
     "execution_count": 34,
     "metadata": {},
     "output_type": "execute_result"
    }
   ],
   "source": [
    "import statsmodels.api as sm\n",
    "\n",
    "convert_old = df2.query('landing_page==\"old_page\"').converted.sum()\n",
    "convert_new = df2.query('landing_page==\"new_page\"').converted.sum()\n",
    "n_old = df2.query('landing_page==\"old_page\"').shape[0]\n",
    "n_new = df2.query('landing_page==\"new_page\"').shape[0]\n",
    "convert_old,convert_new,n_old,n_new"
   ]
  },
  {
   "cell_type": "markdown",
   "metadata": {},
   "source": [
    "m. Now use `stats.proportions_ztest` to compute your test statistic and p-value.  [Here](http://knowledgetack.com/python/statsmodels/proportions_ztest/) is a helpful link on using the built in."
   ]
  },
  {
   "cell_type": "code",
   "execution_count": 101,
   "metadata": {},
   "outputs": [
    {
     "data": {
      "text/plain": [
       "(-1.3109241984234394, 0.90505831275902449)"
      ]
     },
     "execution_count": 101,
     "metadata": {},
     "output_type": "execute_result"
    }
   ],
   "source": [
    "z_score,p_value=sm.stats.proportions_ztest([convert_new,convert_old],[n_new,n_old],alternative='larger')\n",
    "z_score,p_value"
   ]
  },
  {
   "cell_type": "markdown",
   "metadata": {},
   "source": [
    "n. What do the z-score and p-value you computed in the previous question mean for the conversion rates of the old and new pages?  Do they agree with the findings in parts **j.** and **k.**?"
   ]
  },
  {
   "cell_type": "markdown",
   "metadata": {},
   "source": [
    "**We have the same result as previous methold. The z_score is smaller than 1,96 which means the test statistic is not siginificant. Also the p_value for the test statistic is 90.5% which is more than 5%, which draw the same conclusion. Therefore, we fail to reject the null hypothesis and the difference between the old page and new pages are not significant different. \n",
    "Also we can see it is not practical significant, since the difference of the conversion between those two group is very small.**"
   ]
  },
  {
   "cell_type": "markdown",
   "metadata": {},
   "source": [
    "<a id='regression'></a>\n",
    "### Part III - A regression approach\n",
    "\n",
    "`1.` In this final part, you will see that the result you acheived in the previous A/B test can also be acheived by performing regression.<br><br>\n",
    "\n",
    "a. Since each row is either a conversion or no conversion, what type of regression should you be performing in this case?"
   ]
  },
  {
   "cell_type": "markdown",
   "metadata": {},
   "source": [
    "**There are only two choice for the output variable. Therefore, we should you logistic regression..**"
   ]
  },
  {
   "cell_type": "markdown",
   "metadata": {},
   "source": [
    "b. The goal is to use **statsmodels** to fit the regression model you specified in part **a.** to see if there is a significant difference in conversion based on which page a customer receives.  However, you first need to create a colun for the intercept, and create a dummy variable column for which page each user received.  Add an **intercept** column, as well as an **ab_page** column, which is 1 when an individual receives the **treatment** and 0 if **control**."
   ]
  },
  {
   "cell_type": "code",
   "execution_count": 13,
   "metadata": {},
   "outputs": [],
   "source": [
    "\n",
    "df2['new_page']=pd.get_dummies(df2['landing_page'])['new_page']\n",
    "df2['ab_page']=pd.get_dummies(df2['group'])['treatment']\n",
    "df2['intercept']=1\n"
   ]
  },
  {
   "cell_type": "code",
   "execution_count": 14,
   "metadata": {},
   "outputs": [
    {
     "data": {
      "text/html": [
       "<div>\n",
       "<style scoped>\n",
       "    .dataframe tbody tr th:only-of-type {\n",
       "        vertical-align: middle;\n",
       "    }\n",
       "\n",
       "    .dataframe tbody tr th {\n",
       "        vertical-align: top;\n",
       "    }\n",
       "\n",
       "    .dataframe thead th {\n",
       "        text-align: right;\n",
       "    }\n",
       "</style>\n",
       "<table border=\"1\" class=\"dataframe\">\n",
       "  <thead>\n",
       "    <tr style=\"text-align: right;\">\n",
       "      <th></th>\n",
       "      <th>user_id</th>\n",
       "      <th>timestamp</th>\n",
       "      <th>group</th>\n",
       "      <th>landing_page</th>\n",
       "      <th>converted</th>\n",
       "      <th>new_page</th>\n",
       "      <th>ab_page</th>\n",
       "      <th>intercept</th>\n",
       "    </tr>\n",
       "  </thead>\n",
       "  <tbody>\n",
       "    <tr>\n",
       "      <th>0</th>\n",
       "      <td>851104</td>\n",
       "      <td>2017-01-21 22:11:48.556739</td>\n",
       "      <td>control</td>\n",
       "      <td>old_page</td>\n",
       "      <td>0</td>\n",
       "      <td>0</td>\n",
       "      <td>0</td>\n",
       "      <td>1</td>\n",
       "    </tr>\n",
       "    <tr>\n",
       "      <th>1</th>\n",
       "      <td>804228</td>\n",
       "      <td>2017-01-12 08:01:45.159739</td>\n",
       "      <td>control</td>\n",
       "      <td>old_page</td>\n",
       "      <td>0</td>\n",
       "      <td>0</td>\n",
       "      <td>0</td>\n",
       "      <td>1</td>\n",
       "    </tr>\n",
       "    <tr>\n",
       "      <th>2</th>\n",
       "      <td>661590</td>\n",
       "      <td>2017-01-11 16:55:06.154213</td>\n",
       "      <td>treatment</td>\n",
       "      <td>new_page</td>\n",
       "      <td>0</td>\n",
       "      <td>1</td>\n",
       "      <td>1</td>\n",
       "      <td>1</td>\n",
       "    </tr>\n",
       "    <tr>\n",
       "      <th>3</th>\n",
       "      <td>853541</td>\n",
       "      <td>2017-01-08 18:28:03.143765</td>\n",
       "      <td>treatment</td>\n",
       "      <td>new_page</td>\n",
       "      <td>0</td>\n",
       "      <td>1</td>\n",
       "      <td>1</td>\n",
       "      <td>1</td>\n",
       "    </tr>\n",
       "    <tr>\n",
       "      <th>4</th>\n",
       "      <td>864975</td>\n",
       "      <td>2017-01-21 01:52:26.210827</td>\n",
       "      <td>control</td>\n",
       "      <td>old_page</td>\n",
       "      <td>1</td>\n",
       "      <td>0</td>\n",
       "      <td>0</td>\n",
       "      <td>1</td>\n",
       "    </tr>\n",
       "    <tr>\n",
       "      <th>5</th>\n",
       "      <td>936923</td>\n",
       "      <td>2017-01-10 15:20:49.083499</td>\n",
       "      <td>control</td>\n",
       "      <td>old_page</td>\n",
       "      <td>0</td>\n",
       "      <td>0</td>\n",
       "      <td>0</td>\n",
       "      <td>1</td>\n",
       "    </tr>\n",
       "    <tr>\n",
       "      <th>6</th>\n",
       "      <td>679687</td>\n",
       "      <td>2017-01-19 03:26:46.940749</td>\n",
       "      <td>treatment</td>\n",
       "      <td>new_page</td>\n",
       "      <td>1</td>\n",
       "      <td>1</td>\n",
       "      <td>1</td>\n",
       "      <td>1</td>\n",
       "    </tr>\n",
       "    <tr>\n",
       "      <th>7</th>\n",
       "      <td>719014</td>\n",
       "      <td>2017-01-17 01:48:29.539573</td>\n",
       "      <td>control</td>\n",
       "      <td>old_page</td>\n",
       "      <td>0</td>\n",
       "      <td>0</td>\n",
       "      <td>0</td>\n",
       "      <td>1</td>\n",
       "    </tr>\n",
       "    <tr>\n",
       "      <th>8</th>\n",
       "      <td>817355</td>\n",
       "      <td>2017-01-04 17:58:08.979471</td>\n",
       "      <td>treatment</td>\n",
       "      <td>new_page</td>\n",
       "      <td>1</td>\n",
       "      <td>1</td>\n",
       "      <td>1</td>\n",
       "      <td>1</td>\n",
       "    </tr>\n",
       "    <tr>\n",
       "      <th>9</th>\n",
       "      <td>839785</td>\n",
       "      <td>2017-01-15 18:11:06.610965</td>\n",
       "      <td>treatment</td>\n",
       "      <td>new_page</td>\n",
       "      <td>1</td>\n",
       "      <td>1</td>\n",
       "      <td>1</td>\n",
       "      <td>1</td>\n",
       "    </tr>\n",
       "    <tr>\n",
       "      <th>10</th>\n",
       "      <td>929503</td>\n",
       "      <td>2017-01-18 05:37:11.527370</td>\n",
       "      <td>treatment</td>\n",
       "      <td>new_page</td>\n",
       "      <td>0</td>\n",
       "      <td>1</td>\n",
       "      <td>1</td>\n",
       "      <td>1</td>\n",
       "    </tr>\n",
       "    <tr>\n",
       "      <th>11</th>\n",
       "      <td>834487</td>\n",
       "      <td>2017-01-21 22:37:47.774891</td>\n",
       "      <td>treatment</td>\n",
       "      <td>new_page</td>\n",
       "      <td>0</td>\n",
       "      <td>1</td>\n",
       "      <td>1</td>\n",
       "      <td>1</td>\n",
       "    </tr>\n",
       "    <tr>\n",
       "      <th>12</th>\n",
       "      <td>803683</td>\n",
       "      <td>2017-01-09 06:05:16.222706</td>\n",
       "      <td>treatment</td>\n",
       "      <td>new_page</td>\n",
       "      <td>0</td>\n",
       "      <td>1</td>\n",
       "      <td>1</td>\n",
       "      <td>1</td>\n",
       "    </tr>\n",
       "    <tr>\n",
       "      <th>13</th>\n",
       "      <td>944475</td>\n",
       "      <td>2017-01-22 01:31:09.573836</td>\n",
       "      <td>treatment</td>\n",
       "      <td>new_page</td>\n",
       "      <td>0</td>\n",
       "      <td>1</td>\n",
       "      <td>1</td>\n",
       "      <td>1</td>\n",
       "    </tr>\n",
       "    <tr>\n",
       "      <th>14</th>\n",
       "      <td>718956</td>\n",
       "      <td>2017-01-22 11:45:11.327945</td>\n",
       "      <td>treatment</td>\n",
       "      <td>new_page</td>\n",
       "      <td>0</td>\n",
       "      <td>1</td>\n",
       "      <td>1</td>\n",
       "      <td>1</td>\n",
       "    </tr>\n",
       "    <tr>\n",
       "      <th>15</th>\n",
       "      <td>644214</td>\n",
       "      <td>2017-01-22 02:05:21.719434</td>\n",
       "      <td>control</td>\n",
       "      <td>old_page</td>\n",
       "      <td>1</td>\n",
       "      <td>0</td>\n",
       "      <td>0</td>\n",
       "      <td>1</td>\n",
       "    </tr>\n",
       "    <tr>\n",
       "      <th>16</th>\n",
       "      <td>847721</td>\n",
       "      <td>2017-01-17 14:01:00.090575</td>\n",
       "      <td>control</td>\n",
       "      <td>old_page</td>\n",
       "      <td>0</td>\n",
       "      <td>0</td>\n",
       "      <td>0</td>\n",
       "      <td>1</td>\n",
       "    </tr>\n",
       "    <tr>\n",
       "      <th>17</th>\n",
       "      <td>888545</td>\n",
       "      <td>2017-01-08 06:37:26.332945</td>\n",
       "      <td>treatment</td>\n",
       "      <td>new_page</td>\n",
       "      <td>1</td>\n",
       "      <td>1</td>\n",
       "      <td>1</td>\n",
       "      <td>1</td>\n",
       "    </tr>\n",
       "    <tr>\n",
       "      <th>18</th>\n",
       "      <td>650559</td>\n",
       "      <td>2017-01-24 11:55:51.084801</td>\n",
       "      <td>control</td>\n",
       "      <td>old_page</td>\n",
       "      <td>0</td>\n",
       "      <td>0</td>\n",
       "      <td>0</td>\n",
       "      <td>1</td>\n",
       "    </tr>\n",
       "    <tr>\n",
       "      <th>19</th>\n",
       "      <td>935734</td>\n",
       "      <td>2017-01-17 20:33:37.428378</td>\n",
       "      <td>control</td>\n",
       "      <td>old_page</td>\n",
       "      <td>0</td>\n",
       "      <td>0</td>\n",
       "      <td>0</td>\n",
       "      <td>1</td>\n",
       "    </tr>\n",
       "    <tr>\n",
       "      <th>20</th>\n",
       "      <td>740805</td>\n",
       "      <td>2017-01-12 18:59:45.453277</td>\n",
       "      <td>treatment</td>\n",
       "      <td>new_page</td>\n",
       "      <td>0</td>\n",
       "      <td>1</td>\n",
       "      <td>1</td>\n",
       "      <td>1</td>\n",
       "    </tr>\n",
       "    <tr>\n",
       "      <th>21</th>\n",
       "      <td>759875</td>\n",
       "      <td>2017-01-09 16:11:58.806110</td>\n",
       "      <td>treatment</td>\n",
       "      <td>new_page</td>\n",
       "      <td>0</td>\n",
       "      <td>1</td>\n",
       "      <td>1</td>\n",
       "      <td>1</td>\n",
       "    </tr>\n",
       "    <tr>\n",
       "      <th>23</th>\n",
       "      <td>793849</td>\n",
       "      <td>2017-01-23 22:36:10.742811</td>\n",
       "      <td>treatment</td>\n",
       "      <td>new_page</td>\n",
       "      <td>0</td>\n",
       "      <td>1</td>\n",
       "      <td>1</td>\n",
       "      <td>1</td>\n",
       "    </tr>\n",
       "    <tr>\n",
       "      <th>24</th>\n",
       "      <td>905617</td>\n",
       "      <td>2017-01-20 14:12:19.345499</td>\n",
       "      <td>treatment</td>\n",
       "      <td>new_page</td>\n",
       "      <td>0</td>\n",
       "      <td>1</td>\n",
       "      <td>1</td>\n",
       "      <td>1</td>\n",
       "    </tr>\n",
       "    <tr>\n",
       "      <th>25</th>\n",
       "      <td>746742</td>\n",
       "      <td>2017-01-23 11:38:29.592148</td>\n",
       "      <td>control</td>\n",
       "      <td>old_page</td>\n",
       "      <td>0</td>\n",
       "      <td>0</td>\n",
       "      <td>0</td>\n",
       "      <td>1</td>\n",
       "    </tr>\n",
       "    <tr>\n",
       "      <th>26</th>\n",
       "      <td>892356</td>\n",
       "      <td>2017-01-05 09:35:14.904865</td>\n",
       "      <td>treatment</td>\n",
       "      <td>new_page</td>\n",
       "      <td>1</td>\n",
       "      <td>1</td>\n",
       "      <td>1</td>\n",
       "      <td>1</td>\n",
       "    </tr>\n",
       "    <tr>\n",
       "      <th>27</th>\n",
       "      <td>773302</td>\n",
       "      <td>2017-01-12 08:29:49.810594</td>\n",
       "      <td>treatment</td>\n",
       "      <td>new_page</td>\n",
       "      <td>0</td>\n",
       "      <td>1</td>\n",
       "      <td>1</td>\n",
       "      <td>1</td>\n",
       "    </tr>\n",
       "    <tr>\n",
       "      <th>28</th>\n",
       "      <td>913579</td>\n",
       "      <td>2017-01-24 09:11:39.164256</td>\n",
       "      <td>control</td>\n",
       "      <td>old_page</td>\n",
       "      <td>1</td>\n",
       "      <td>0</td>\n",
       "      <td>0</td>\n",
       "      <td>1</td>\n",
       "    </tr>\n",
       "    <tr>\n",
       "      <th>29</th>\n",
       "      <td>736159</td>\n",
       "      <td>2017-01-06 01:50:21.318242</td>\n",
       "      <td>treatment</td>\n",
       "      <td>new_page</td>\n",
       "      <td>0</td>\n",
       "      <td>1</td>\n",
       "      <td>1</td>\n",
       "      <td>1</td>\n",
       "    </tr>\n",
       "    <tr>\n",
       "      <th>30</th>\n",
       "      <td>690284</td>\n",
       "      <td>2017-01-13 17:22:57.182769</td>\n",
       "      <td>control</td>\n",
       "      <td>old_page</td>\n",
       "      <td>0</td>\n",
       "      <td>0</td>\n",
       "      <td>0</td>\n",
       "      <td>1</td>\n",
       "    </tr>\n",
       "    <tr>\n",
       "      <th>...</th>\n",
       "      <td>...</td>\n",
       "      <td>...</td>\n",
       "      <td>...</td>\n",
       "      <td>...</td>\n",
       "      <td>...</td>\n",
       "      <td>...</td>\n",
       "      <td>...</td>\n",
       "      <td>...</td>\n",
       "    </tr>\n",
       "    <tr>\n",
       "      <th>294448</th>\n",
       "      <td>776137</td>\n",
       "      <td>2017-01-12 05:53:12.386730</td>\n",
       "      <td>treatment</td>\n",
       "      <td>new_page</td>\n",
       "      <td>0</td>\n",
       "      <td>1</td>\n",
       "      <td>1</td>\n",
       "      <td>1</td>\n",
       "    </tr>\n",
       "    <tr>\n",
       "      <th>294449</th>\n",
       "      <td>883344</td>\n",
       "      <td>2017-01-22 23:15:58.645325</td>\n",
       "      <td>treatment</td>\n",
       "      <td>new_page</td>\n",
       "      <td>0</td>\n",
       "      <td>1</td>\n",
       "      <td>1</td>\n",
       "      <td>1</td>\n",
       "    </tr>\n",
       "    <tr>\n",
       "      <th>294450</th>\n",
       "      <td>825594</td>\n",
       "      <td>2017-01-06 12:37:08.897784</td>\n",
       "      <td>treatment</td>\n",
       "      <td>new_page</td>\n",
       "      <td>0</td>\n",
       "      <td>1</td>\n",
       "      <td>1</td>\n",
       "      <td>1</td>\n",
       "    </tr>\n",
       "    <tr>\n",
       "      <th>294451</th>\n",
       "      <td>875688</td>\n",
       "      <td>2017-01-14 07:19:49.042869</td>\n",
       "      <td>control</td>\n",
       "      <td>old_page</td>\n",
       "      <td>0</td>\n",
       "      <td>0</td>\n",
       "      <td>0</td>\n",
       "      <td>1</td>\n",
       "    </tr>\n",
       "    <tr>\n",
       "      <th>294452</th>\n",
       "      <td>927527</td>\n",
       "      <td>2017-01-12 10:52:11.084740</td>\n",
       "      <td>control</td>\n",
       "      <td>old_page</td>\n",
       "      <td>0</td>\n",
       "      <td>0</td>\n",
       "      <td>0</td>\n",
       "      <td>1</td>\n",
       "    </tr>\n",
       "    <tr>\n",
       "      <th>294453</th>\n",
       "      <td>789177</td>\n",
       "      <td>2017-01-17 18:17:56.215378</td>\n",
       "      <td>control</td>\n",
       "      <td>old_page</td>\n",
       "      <td>0</td>\n",
       "      <td>0</td>\n",
       "      <td>0</td>\n",
       "      <td>1</td>\n",
       "    </tr>\n",
       "    <tr>\n",
       "      <th>294454</th>\n",
       "      <td>937338</td>\n",
       "      <td>2017-01-19 03:23:22.236666</td>\n",
       "      <td>treatment</td>\n",
       "      <td>new_page</td>\n",
       "      <td>0</td>\n",
       "      <td>1</td>\n",
       "      <td>1</td>\n",
       "      <td>1</td>\n",
       "    </tr>\n",
       "    <tr>\n",
       "      <th>294455</th>\n",
       "      <td>733101</td>\n",
       "      <td>2017-01-23 12:52:58.711914</td>\n",
       "      <td>treatment</td>\n",
       "      <td>new_page</td>\n",
       "      <td>0</td>\n",
       "      <td>1</td>\n",
       "      <td>1</td>\n",
       "      <td>1</td>\n",
       "    </tr>\n",
       "    <tr>\n",
       "      <th>294456</th>\n",
       "      <td>679096</td>\n",
       "      <td>2017-01-02 16:43:49.237940</td>\n",
       "      <td>treatment</td>\n",
       "      <td>new_page</td>\n",
       "      <td>0</td>\n",
       "      <td>1</td>\n",
       "      <td>1</td>\n",
       "      <td>1</td>\n",
       "    </tr>\n",
       "    <tr>\n",
       "      <th>294457</th>\n",
       "      <td>691699</td>\n",
       "      <td>2017-01-09 23:42:35.963486</td>\n",
       "      <td>treatment</td>\n",
       "      <td>new_page</td>\n",
       "      <td>0</td>\n",
       "      <td>1</td>\n",
       "      <td>1</td>\n",
       "      <td>1</td>\n",
       "    </tr>\n",
       "    <tr>\n",
       "      <th>294458</th>\n",
       "      <td>807595</td>\n",
       "      <td>2017-01-22 10:43:09.285426</td>\n",
       "      <td>treatment</td>\n",
       "      <td>new_page</td>\n",
       "      <td>0</td>\n",
       "      <td>1</td>\n",
       "      <td>1</td>\n",
       "      <td>1</td>\n",
       "    </tr>\n",
       "    <tr>\n",
       "      <th>294459</th>\n",
       "      <td>924816</td>\n",
       "      <td>2017-01-20 10:59:03.481635</td>\n",
       "      <td>control</td>\n",
       "      <td>old_page</td>\n",
       "      <td>0</td>\n",
       "      <td>0</td>\n",
       "      <td>0</td>\n",
       "      <td>1</td>\n",
       "    </tr>\n",
       "    <tr>\n",
       "      <th>294460</th>\n",
       "      <td>846225</td>\n",
       "      <td>2017-01-16 15:24:46.705903</td>\n",
       "      <td>treatment</td>\n",
       "      <td>new_page</td>\n",
       "      <td>0</td>\n",
       "      <td>1</td>\n",
       "      <td>1</td>\n",
       "      <td>1</td>\n",
       "    </tr>\n",
       "    <tr>\n",
       "      <th>294461</th>\n",
       "      <td>740310</td>\n",
       "      <td>2017-01-10 17:22:19.762612</td>\n",
       "      <td>control</td>\n",
       "      <td>old_page</td>\n",
       "      <td>0</td>\n",
       "      <td>0</td>\n",
       "      <td>0</td>\n",
       "      <td>1</td>\n",
       "    </tr>\n",
       "    <tr>\n",
       "      <th>294462</th>\n",
       "      <td>677163</td>\n",
       "      <td>2017-01-03 19:41:51.902148</td>\n",
       "      <td>treatment</td>\n",
       "      <td>new_page</td>\n",
       "      <td>0</td>\n",
       "      <td>1</td>\n",
       "      <td>1</td>\n",
       "      <td>1</td>\n",
       "    </tr>\n",
       "    <tr>\n",
       "      <th>294463</th>\n",
       "      <td>832080</td>\n",
       "      <td>2017-01-19 13:18:27.352570</td>\n",
       "      <td>control</td>\n",
       "      <td>old_page</td>\n",
       "      <td>0</td>\n",
       "      <td>0</td>\n",
       "      <td>0</td>\n",
       "      <td>1</td>\n",
       "    </tr>\n",
       "    <tr>\n",
       "      <th>294464</th>\n",
       "      <td>834362</td>\n",
       "      <td>2017-01-17 01:51:56.106436</td>\n",
       "      <td>control</td>\n",
       "      <td>old_page</td>\n",
       "      <td>0</td>\n",
       "      <td>0</td>\n",
       "      <td>0</td>\n",
       "      <td>1</td>\n",
       "    </tr>\n",
       "    <tr>\n",
       "      <th>294465</th>\n",
       "      <td>925675</td>\n",
       "      <td>2017-01-07 20:38:26.346410</td>\n",
       "      <td>treatment</td>\n",
       "      <td>new_page</td>\n",
       "      <td>0</td>\n",
       "      <td>1</td>\n",
       "      <td>1</td>\n",
       "      <td>1</td>\n",
       "    </tr>\n",
       "    <tr>\n",
       "      <th>294466</th>\n",
       "      <td>923948</td>\n",
       "      <td>2017-01-09 16:33:41.104573</td>\n",
       "      <td>control</td>\n",
       "      <td>old_page</td>\n",
       "      <td>0</td>\n",
       "      <td>0</td>\n",
       "      <td>0</td>\n",
       "      <td>1</td>\n",
       "    </tr>\n",
       "    <tr>\n",
       "      <th>294467</th>\n",
       "      <td>857744</td>\n",
       "      <td>2017-01-05 08:00:56.024226</td>\n",
       "      <td>control</td>\n",
       "      <td>old_page</td>\n",
       "      <td>0</td>\n",
       "      <td>0</td>\n",
       "      <td>0</td>\n",
       "      <td>1</td>\n",
       "    </tr>\n",
       "    <tr>\n",
       "      <th>294468</th>\n",
       "      <td>643562</td>\n",
       "      <td>2017-01-02 19:20:05.460595</td>\n",
       "      <td>treatment</td>\n",
       "      <td>new_page</td>\n",
       "      <td>0</td>\n",
       "      <td>1</td>\n",
       "      <td>1</td>\n",
       "      <td>1</td>\n",
       "    </tr>\n",
       "    <tr>\n",
       "      <th>294469</th>\n",
       "      <td>755438</td>\n",
       "      <td>2017-01-18 17:35:06.149568</td>\n",
       "      <td>control</td>\n",
       "      <td>old_page</td>\n",
       "      <td>0</td>\n",
       "      <td>0</td>\n",
       "      <td>0</td>\n",
       "      <td>1</td>\n",
       "    </tr>\n",
       "    <tr>\n",
       "      <th>294470</th>\n",
       "      <td>908354</td>\n",
       "      <td>2017-01-11 02:42:21.195145</td>\n",
       "      <td>control</td>\n",
       "      <td>old_page</td>\n",
       "      <td>0</td>\n",
       "      <td>0</td>\n",
       "      <td>0</td>\n",
       "      <td>1</td>\n",
       "    </tr>\n",
       "    <tr>\n",
       "      <th>294471</th>\n",
       "      <td>718310</td>\n",
       "      <td>2017-01-21 22:44:20.378320</td>\n",
       "      <td>control</td>\n",
       "      <td>old_page</td>\n",
       "      <td>0</td>\n",
       "      <td>0</td>\n",
       "      <td>0</td>\n",
       "      <td>1</td>\n",
       "    </tr>\n",
       "    <tr>\n",
       "      <th>294472</th>\n",
       "      <td>822004</td>\n",
       "      <td>2017-01-04 03:36:46.071379</td>\n",
       "      <td>treatment</td>\n",
       "      <td>new_page</td>\n",
       "      <td>0</td>\n",
       "      <td>1</td>\n",
       "      <td>1</td>\n",
       "      <td>1</td>\n",
       "    </tr>\n",
       "    <tr>\n",
       "      <th>294473</th>\n",
       "      <td>751197</td>\n",
       "      <td>2017-01-03 22:28:38.630509</td>\n",
       "      <td>control</td>\n",
       "      <td>old_page</td>\n",
       "      <td>0</td>\n",
       "      <td>0</td>\n",
       "      <td>0</td>\n",
       "      <td>1</td>\n",
       "    </tr>\n",
       "    <tr>\n",
       "      <th>294474</th>\n",
       "      <td>945152</td>\n",
       "      <td>2017-01-12 00:51:57.078372</td>\n",
       "      <td>control</td>\n",
       "      <td>old_page</td>\n",
       "      <td>0</td>\n",
       "      <td>0</td>\n",
       "      <td>0</td>\n",
       "      <td>1</td>\n",
       "    </tr>\n",
       "    <tr>\n",
       "      <th>294475</th>\n",
       "      <td>734608</td>\n",
       "      <td>2017-01-22 11:45:03.439544</td>\n",
       "      <td>control</td>\n",
       "      <td>old_page</td>\n",
       "      <td>0</td>\n",
       "      <td>0</td>\n",
       "      <td>0</td>\n",
       "      <td>1</td>\n",
       "    </tr>\n",
       "    <tr>\n",
       "      <th>294476</th>\n",
       "      <td>697314</td>\n",
       "      <td>2017-01-15 01:20:28.957438</td>\n",
       "      <td>control</td>\n",
       "      <td>old_page</td>\n",
       "      <td>0</td>\n",
       "      <td>0</td>\n",
       "      <td>0</td>\n",
       "      <td>1</td>\n",
       "    </tr>\n",
       "    <tr>\n",
       "      <th>294477</th>\n",
       "      <td>715931</td>\n",
       "      <td>2017-01-16 12:40:24.467417</td>\n",
       "      <td>treatment</td>\n",
       "      <td>new_page</td>\n",
       "      <td>0</td>\n",
       "      <td>1</td>\n",
       "      <td>1</td>\n",
       "      <td>1</td>\n",
       "    </tr>\n",
       "  </tbody>\n",
       "</table>\n",
       "<p>290584 rows × 8 columns</p>\n",
       "</div>"
      ],
      "text/plain": [
       "        user_id                   timestamp      group landing_page  \\\n",
       "0        851104  2017-01-21 22:11:48.556739    control     old_page   \n",
       "1        804228  2017-01-12 08:01:45.159739    control     old_page   \n",
       "2        661590  2017-01-11 16:55:06.154213  treatment     new_page   \n",
       "3        853541  2017-01-08 18:28:03.143765  treatment     new_page   \n",
       "4        864975  2017-01-21 01:52:26.210827    control     old_page   \n",
       "5        936923  2017-01-10 15:20:49.083499    control     old_page   \n",
       "6        679687  2017-01-19 03:26:46.940749  treatment     new_page   \n",
       "7        719014  2017-01-17 01:48:29.539573    control     old_page   \n",
       "8        817355  2017-01-04 17:58:08.979471  treatment     new_page   \n",
       "9        839785  2017-01-15 18:11:06.610965  treatment     new_page   \n",
       "10       929503  2017-01-18 05:37:11.527370  treatment     new_page   \n",
       "11       834487  2017-01-21 22:37:47.774891  treatment     new_page   \n",
       "12       803683  2017-01-09 06:05:16.222706  treatment     new_page   \n",
       "13       944475  2017-01-22 01:31:09.573836  treatment     new_page   \n",
       "14       718956  2017-01-22 11:45:11.327945  treatment     new_page   \n",
       "15       644214  2017-01-22 02:05:21.719434    control     old_page   \n",
       "16       847721  2017-01-17 14:01:00.090575    control     old_page   \n",
       "17       888545  2017-01-08 06:37:26.332945  treatment     new_page   \n",
       "18       650559  2017-01-24 11:55:51.084801    control     old_page   \n",
       "19       935734  2017-01-17 20:33:37.428378    control     old_page   \n",
       "20       740805  2017-01-12 18:59:45.453277  treatment     new_page   \n",
       "21       759875  2017-01-09 16:11:58.806110  treatment     new_page   \n",
       "23       793849  2017-01-23 22:36:10.742811  treatment     new_page   \n",
       "24       905617  2017-01-20 14:12:19.345499  treatment     new_page   \n",
       "25       746742  2017-01-23 11:38:29.592148    control     old_page   \n",
       "26       892356  2017-01-05 09:35:14.904865  treatment     new_page   \n",
       "27       773302  2017-01-12 08:29:49.810594  treatment     new_page   \n",
       "28       913579  2017-01-24 09:11:39.164256    control     old_page   \n",
       "29       736159  2017-01-06 01:50:21.318242  treatment     new_page   \n",
       "30       690284  2017-01-13 17:22:57.182769    control     old_page   \n",
       "...         ...                         ...        ...          ...   \n",
       "294448   776137  2017-01-12 05:53:12.386730  treatment     new_page   \n",
       "294449   883344  2017-01-22 23:15:58.645325  treatment     new_page   \n",
       "294450   825594  2017-01-06 12:37:08.897784  treatment     new_page   \n",
       "294451   875688  2017-01-14 07:19:49.042869    control     old_page   \n",
       "294452   927527  2017-01-12 10:52:11.084740    control     old_page   \n",
       "294453   789177  2017-01-17 18:17:56.215378    control     old_page   \n",
       "294454   937338  2017-01-19 03:23:22.236666  treatment     new_page   \n",
       "294455   733101  2017-01-23 12:52:58.711914  treatment     new_page   \n",
       "294456   679096  2017-01-02 16:43:49.237940  treatment     new_page   \n",
       "294457   691699  2017-01-09 23:42:35.963486  treatment     new_page   \n",
       "294458   807595  2017-01-22 10:43:09.285426  treatment     new_page   \n",
       "294459   924816  2017-01-20 10:59:03.481635    control     old_page   \n",
       "294460   846225  2017-01-16 15:24:46.705903  treatment     new_page   \n",
       "294461   740310  2017-01-10 17:22:19.762612    control     old_page   \n",
       "294462   677163  2017-01-03 19:41:51.902148  treatment     new_page   \n",
       "294463   832080  2017-01-19 13:18:27.352570    control     old_page   \n",
       "294464   834362  2017-01-17 01:51:56.106436    control     old_page   \n",
       "294465   925675  2017-01-07 20:38:26.346410  treatment     new_page   \n",
       "294466   923948  2017-01-09 16:33:41.104573    control     old_page   \n",
       "294467   857744  2017-01-05 08:00:56.024226    control     old_page   \n",
       "294468   643562  2017-01-02 19:20:05.460595  treatment     new_page   \n",
       "294469   755438  2017-01-18 17:35:06.149568    control     old_page   \n",
       "294470   908354  2017-01-11 02:42:21.195145    control     old_page   \n",
       "294471   718310  2017-01-21 22:44:20.378320    control     old_page   \n",
       "294472   822004  2017-01-04 03:36:46.071379  treatment     new_page   \n",
       "294473   751197  2017-01-03 22:28:38.630509    control     old_page   \n",
       "294474   945152  2017-01-12 00:51:57.078372    control     old_page   \n",
       "294475   734608  2017-01-22 11:45:03.439544    control     old_page   \n",
       "294476   697314  2017-01-15 01:20:28.957438    control     old_page   \n",
       "294477   715931  2017-01-16 12:40:24.467417  treatment     new_page   \n",
       "\n",
       "        converted  new_page  ab_page  intercept  \n",
       "0               0         0        0          1  \n",
       "1               0         0        0          1  \n",
       "2               0         1        1          1  \n",
       "3               0         1        1          1  \n",
       "4               1         0        0          1  \n",
       "5               0         0        0          1  \n",
       "6               1         1        1          1  \n",
       "7               0         0        0          1  \n",
       "8               1         1        1          1  \n",
       "9               1         1        1          1  \n",
       "10              0         1        1          1  \n",
       "11              0         1        1          1  \n",
       "12              0         1        1          1  \n",
       "13              0         1        1          1  \n",
       "14              0         1        1          1  \n",
       "15              1         0        0          1  \n",
       "16              0         0        0          1  \n",
       "17              1         1        1          1  \n",
       "18              0         0        0          1  \n",
       "19              0         0        0          1  \n",
       "20              0         1        1          1  \n",
       "21              0         1        1          1  \n",
       "23              0         1        1          1  \n",
       "24              0         1        1          1  \n",
       "25              0         0        0          1  \n",
       "26              1         1        1          1  \n",
       "27              0         1        1          1  \n",
       "28              1         0        0          1  \n",
       "29              0         1        1          1  \n",
       "30              0         0        0          1  \n",
       "...           ...       ...      ...        ...  \n",
       "294448          0         1        1          1  \n",
       "294449          0         1        1          1  \n",
       "294450          0         1        1          1  \n",
       "294451          0         0        0          1  \n",
       "294452          0         0        0          1  \n",
       "294453          0         0        0          1  \n",
       "294454          0         1        1          1  \n",
       "294455          0         1        1          1  \n",
       "294456          0         1        1          1  \n",
       "294457          0         1        1          1  \n",
       "294458          0         1        1          1  \n",
       "294459          0         0        0          1  \n",
       "294460          0         1        1          1  \n",
       "294461          0         0        0          1  \n",
       "294462          0         1        1          1  \n",
       "294463          0         0        0          1  \n",
       "294464          0         0        0          1  \n",
       "294465          0         1        1          1  \n",
       "294466          0         0        0          1  \n",
       "294467          0         0        0          1  \n",
       "294468          0         1        1          1  \n",
       "294469          0         0        0          1  \n",
       "294470          0         0        0          1  \n",
       "294471          0         0        0          1  \n",
       "294472          0         1        1          1  \n",
       "294473          0         0        0          1  \n",
       "294474          0         0        0          1  \n",
       "294475          0         0        0          1  \n",
       "294476          0         0        0          1  \n",
       "294477          0         1        1          1  \n",
       "\n",
       "[290584 rows x 8 columns]"
      ]
     },
     "execution_count": 14,
     "metadata": {},
     "output_type": "execute_result"
    }
   ],
   "source": [
    "df2"
   ]
  },
  {
   "cell_type": "markdown",
   "metadata": {},
   "source": [
    "c. Use **statsmodels** to import your regression model.  Instantiate the model, and fit the model using the two columns you created in part **b.** to predict whether or not an individual converts."
   ]
  },
  {
   "cell_type": "code",
   "execution_count": 6,
   "metadata": {},
   "outputs": [
    {
     "name": "stderr",
     "output_type": "stream",
     "text": [
      "/opt/conda/lib/python3.6/site-packages/statsmodels/compat/pandas.py:56: FutureWarning: The pandas.core.datetools module is deprecated and will be removed in a future version. Please use the pandas.tseries module instead.\n",
      "  from pandas.core import datetools\n"
     ]
    }
   ],
   "source": [
    "import statsmodels.api as sm"
   ]
  },
  {
   "cell_type": "code",
   "execution_count": 104,
   "metadata": {},
   "outputs": [
    {
     "name": "stdout",
     "output_type": "stream",
     "text": [
      "Optimization terminated successfully.\n",
      "         Current function value: 0.366118\n",
      "         Iterations 6\n"
     ]
    }
   ],
   "source": [
    "logit_model=sm.Logit(df2['converted'],df2[['intercept','ab_page']])\n",
    "result=logit_model.fit()\n"
   ]
  },
  {
   "cell_type": "markdown",
   "metadata": {},
   "source": [
    "d. Provide the summary of your model below, and use it as necessary to answer the following questions."
   ]
  },
  {
   "cell_type": "code",
   "execution_count": 105,
   "metadata": {},
   "outputs": [
    {
     "data": {
      "text/html": [
       "<table class=\"simpletable\">\n",
       "<caption>Logit Regression Results</caption>\n",
       "<tr>\n",
       "  <th>Dep. Variable:</th>     <td>converted</td>    <th>  No. Observations:  </th>   <td>290584</td>   \n",
       "</tr>\n",
       "<tr>\n",
       "  <th>Model:</th>               <td>Logit</td>      <th>  Df Residuals:      </th>   <td>290582</td>   \n",
       "</tr>\n",
       "<tr>\n",
       "  <th>Method:</th>               <td>MLE</td>       <th>  Df Model:          </th>   <td>     1</td>   \n",
       "</tr>\n",
       "<tr>\n",
       "  <th>Date:</th>          <td>Thu, 06 Sep 2018</td> <th>  Pseudo R-squ.:     </th>  <td>8.077e-06</td> \n",
       "</tr>\n",
       "<tr>\n",
       "  <th>Time:</th>              <td>23:56:55</td>     <th>  Log-Likelihood:    </th> <td>-1.0639e+05</td>\n",
       "</tr>\n",
       "<tr>\n",
       "  <th>converged:</th>           <td>True</td>       <th>  LL-Null:           </th> <td>-1.0639e+05</td>\n",
       "</tr>\n",
       "<tr>\n",
       "  <th> </th>                      <td> </td>        <th>  LLR p-value:       </th>   <td>0.1899</td>   \n",
       "</tr>\n",
       "</table>\n",
       "<table class=\"simpletable\">\n",
       "<tr>\n",
       "      <td></td>         <th>coef</th>     <th>std err</th>      <th>z</th>      <th>P>|z|</th>  <th>[0.025</th>    <th>0.975]</th>  \n",
       "</tr>\n",
       "<tr>\n",
       "  <th>intercept</th> <td>   -1.9888</td> <td>    0.008</td> <td> -246.669</td> <td> 0.000</td> <td>   -2.005</td> <td>   -1.973</td>\n",
       "</tr>\n",
       "<tr>\n",
       "  <th>ab_page</th>   <td>   -0.0150</td> <td>    0.011</td> <td>   -1.311</td> <td> 0.190</td> <td>   -0.037</td> <td>    0.007</td>\n",
       "</tr>\n",
       "</table>"
      ],
      "text/plain": [
       "<class 'statsmodels.iolib.summary.Summary'>\n",
       "\"\"\"\n",
       "                           Logit Regression Results                           \n",
       "==============================================================================\n",
       "Dep. Variable:              converted   No. Observations:               290584\n",
       "Model:                          Logit   Df Residuals:                   290582\n",
       "Method:                           MLE   Df Model:                            1\n",
       "Date:                Thu, 06 Sep 2018   Pseudo R-squ.:               8.077e-06\n",
       "Time:                        23:56:55   Log-Likelihood:            -1.0639e+05\n",
       "converged:                       True   LL-Null:                   -1.0639e+05\n",
       "                                        LLR p-value:                    0.1899\n",
       "==============================================================================\n",
       "                 coef    std err          z      P>|z|      [0.025      0.975]\n",
       "------------------------------------------------------------------------------\n",
       "intercept     -1.9888      0.008   -246.669      0.000      -2.005      -1.973\n",
       "ab_page       -0.0150      0.011     -1.311      0.190      -0.037       0.007\n",
       "==============================================================================\n",
       "\"\"\""
      ]
     },
     "execution_count": 105,
     "metadata": {},
     "output_type": "execute_result"
    }
   ],
   "source": [
    "result.summary()"
   ]
  },
  {
   "cell_type": "markdown",
   "metadata": {},
   "source": [
    "e. What is the p-value associated with **ab_page**? Why does it differ from the value you found in the **Part II**?<br><br>  **Hint**: What are the null and alternative hypotheses associated with your regression model, and how do they compare to the null and alternative hypotheses in the **Part II**?"
   ]
  },
  {
   "cell_type": "markdown",
   "metadata": {},
   "source": [
    "**we can see that p-value of ab_page is 0.19 which is not consist with previous result in Part two. When we do the regression, we did the t test for the variable. The null hypothesis is β1=b1 and alternative hypothesis is β1 not equal to b1. We can see that it is two sided test. The previous two method used the one side test. Thus the result is different.**"
   ]
  },
  {
   "cell_type": "markdown",
   "metadata": {},
   "source": [
    "f. Now, you are considering other things that might influence whether or not an individual converts.  Discuss why it is a good idea to consider other factors to add into your regression model.  Are there any disadvantages to adding additional terms into your regression model?"
   ]
  },
  {
   "cell_type": "markdown",
   "metadata": {},
   "source": [
    "**We can see that ab_page is not significant. Thus, we need to consider other factors.But adding additional variables to the model may occur multicolinearity issue. There may be correlation between the new added variable and existing variables**"
   ]
  },
  {
   "cell_type": "markdown",
   "metadata": {},
   "source": [
    "g. Now along with testing if the conversion rate changes for different pages, also add an effect based on which country a user lives. You will need to read in the **countries.csv** dataset and merge together your datasets on the approporiate rows.  [Here](https://pandas.pydata.org/pandas-docs/stable/generated/pandas.DataFrame.join.html) are the docs for joining tables. \n",
    "\n",
    "Does it appear that country had an impact on conversion?  Don't forget to create dummy variables for these country columns - **Hint: You will need two columns for the three dummy varaibles.** Provide the statistical output as well as a written response to answer this question."
   ]
  },
  {
   "cell_type": "code",
   "execution_count": 9,
   "metadata": {},
   "outputs": [
    {
     "data": {
      "text/html": [
       "<div>\n",
       "<style>\n",
       "    .dataframe thead tr:only-child th {\n",
       "        text-align: right;\n",
       "    }\n",
       "\n",
       "    .dataframe thead th {\n",
       "        text-align: left;\n",
       "    }\n",
       "\n",
       "    .dataframe tbody tr th {\n",
       "        vertical-align: top;\n",
       "    }\n",
       "</style>\n",
       "<table border=\"1\" class=\"dataframe\">\n",
       "  <thead>\n",
       "    <tr style=\"text-align: right;\">\n",
       "      <th></th>\n",
       "      <th>user_id</th>\n",
       "      <th>country</th>\n",
       "    </tr>\n",
       "  </thead>\n",
       "  <tbody>\n",
       "    <tr>\n",
       "      <th>0</th>\n",
       "      <td>834778</td>\n",
       "      <td>UK</td>\n",
       "    </tr>\n",
       "    <tr>\n",
       "      <th>1</th>\n",
       "      <td>928468</td>\n",
       "      <td>US</td>\n",
       "    </tr>\n",
       "    <tr>\n",
       "      <th>2</th>\n",
       "      <td>822059</td>\n",
       "      <td>UK</td>\n",
       "    </tr>\n",
       "    <tr>\n",
       "      <th>3</th>\n",
       "      <td>711597</td>\n",
       "      <td>UK</td>\n",
       "    </tr>\n",
       "    <tr>\n",
       "      <th>4</th>\n",
       "      <td>710616</td>\n",
       "      <td>UK</td>\n",
       "    </tr>\n",
       "  </tbody>\n",
       "</table>\n",
       "</div>"
      ],
      "text/plain": [
       "   user_id country\n",
       "0   834778      UK\n",
       "1   928468      US\n",
       "2   822059      UK\n",
       "3   711597      UK\n",
       "4   710616      UK"
      ]
     },
     "execution_count": 9,
     "metadata": {},
     "output_type": "execute_result"
    }
   ],
   "source": [
    "data=pd.read_csv('countries.csv')\n",
    "data.head()"
   ]
  },
  {
   "cell_type": "code",
   "execution_count": 10,
   "metadata": {},
   "outputs": [],
   "source": [
    "df2=df2.set_index('user_id').join(data.set_index('user_id'))\n"
   ]
  },
  {
   "cell_type": "code",
   "execution_count": 11,
   "metadata": {},
   "outputs": [],
   "source": [
    "df2[['CA','UK','US']]=pd.get_dummies(df2['country'])\n"
   ]
  },
  {
   "cell_type": "code",
   "execution_count": 58,
   "metadata": {
    "scrolled": true
   },
   "outputs": [
    {
     "name": "stdout",
     "output_type": "stream",
     "text": [
      "Optimization terminated successfully.\n",
      "         Current function value: 0.366116\n",
      "         Iterations 6\n"
     ]
    },
    {
     "data": {
      "text/html": [
       "<table class=\"simpletable\">\n",
       "<caption>Logit Regression Results</caption>\n",
       "<tr>\n",
       "  <th>Dep. Variable:</th>     <td>converted</td>    <th>  No. Observations:  </th>   <td>290584</td>   \n",
       "</tr>\n",
       "<tr>\n",
       "  <th>Model:</th>               <td>Logit</td>      <th>  Df Residuals:      </th>   <td>290581</td>   \n",
       "</tr>\n",
       "<tr>\n",
       "  <th>Method:</th>               <td>MLE</td>       <th>  Df Model:          </th>   <td>     2</td>   \n",
       "</tr>\n",
       "<tr>\n",
       "  <th>Date:</th>          <td>Fri, 07 Sep 2018</td> <th>  Pseudo R-squ.:     </th>  <td>1.521e-05</td> \n",
       "</tr>\n",
       "<tr>\n",
       "  <th>Time:</th>              <td>17:36:50</td>     <th>  Log-Likelihood:    </th> <td>-1.0639e+05</td>\n",
       "</tr>\n",
       "<tr>\n",
       "  <th>converged:</th>           <td>True</td>       <th>  LL-Null:           </th> <td>-1.0639e+05</td>\n",
       "</tr>\n",
       "<tr>\n",
       "  <th> </th>                      <td> </td>        <th>  LLR p-value:       </th>   <td>0.1984</td>   \n",
       "</tr>\n",
       "</table>\n",
       "<table class=\"simpletable\">\n",
       "<tr>\n",
       "      <td></td>         <th>coef</th>     <th>std err</th>      <th>z</th>      <th>P>|z|</th>  <th>[0.025</th>    <th>0.975]</th>  \n",
       "</tr>\n",
       "<tr>\n",
       "  <th>intercept</th> <td>   -1.9967</td> <td>    0.007</td> <td> -292.314</td> <td> 0.000</td> <td>   -2.010</td> <td>   -1.983</td>\n",
       "</tr>\n",
       "<tr>\n",
       "  <th>CA</th>        <td>   -0.0408</td> <td>    0.027</td> <td>   -1.518</td> <td> 0.129</td> <td>   -0.093</td> <td>    0.012</td>\n",
       "</tr>\n",
       "<tr>\n",
       "  <th>UK</th>        <td>    0.0099</td> <td>    0.013</td> <td>    0.746</td> <td> 0.456</td> <td>   -0.016</td> <td>    0.036</td>\n",
       "</tr>\n",
       "</table>"
      ],
      "text/plain": [
       "<class 'statsmodels.iolib.summary.Summary'>\n",
       "\"\"\"\n",
       "                           Logit Regression Results                           \n",
       "==============================================================================\n",
       "Dep. Variable:              converted   No. Observations:               290584\n",
       "Model:                          Logit   Df Residuals:                   290581\n",
       "Method:                           MLE   Df Model:                            2\n",
       "Date:                Fri, 07 Sep 2018   Pseudo R-squ.:               1.521e-05\n",
       "Time:                        17:36:50   Log-Likelihood:            -1.0639e+05\n",
       "converged:                       True   LL-Null:                   -1.0639e+05\n",
       "                                        LLR p-value:                    0.1984\n",
       "==============================================================================\n",
       "                 coef    std err          z      P>|z|      [0.025      0.975]\n",
       "------------------------------------------------------------------------------\n",
       "intercept     -1.9967      0.007   -292.314      0.000      -2.010      -1.983\n",
       "CA            -0.0408      0.027     -1.518      0.129      -0.093       0.012\n",
       "UK             0.0099      0.013      0.746      0.456      -0.016       0.036\n",
       "==============================================================================\n",
       "\"\"\""
      ]
     },
     "execution_count": 58,
     "metadata": {},
     "output_type": "execute_result"
    }
   ],
   "source": [
    "logit_model2=sm.Logit(df2['converted'],df2[['intercept','CA','UK']])\n",
    "result=logit_model2.fit()\n",
    "\n",
    "result.summary()"
   ]
  },
  {
   "cell_type": "code",
   "execution_count": 59,
   "metadata": {},
   "outputs": [
    {
     "data": {
      "text/plain": [
       "(-1.0416437559600236, 1.0099491671175422)"
      ]
     },
     "execution_count": 59,
     "metadata": {},
     "output_type": "execute_result"
    }
   ],
   "source": [
    "-np.exp(0.0408),np.exp(0.0099)"
   ]
  },
  {
   "cell_type": "markdown",
   "metadata": {},
   "source": [
    "**I set the US as baseline, increase 1 unit in CA will decrease 1.04 odd of conversion compared with US and increase 1 unit in UK will increase 0.0099 odd of conversion compared with US. However the p_value of CA and UK are both larger than 5% thus the variable of country is not significant**"
   ]
  },
  {
   "cell_type": "markdown",
   "metadata": {},
   "source": [
    "h. Though you have now looked at the individual factors of country and page on conversion, we would now like to look at an interaction between page and country to see if there significant effects on conversion.  Create the necessary additional columns, and fit the new model.  \n",
    "\n",
    "Provide the summary results, and your conclusions based on the results."
   ]
  },
  {
   "cell_type": "code",
   "execution_count": 16,
   "metadata": {},
   "outputs": [],
   "source": [
    "df2['CA_page']=df2['CA']*df2['ab_page']\n",
    "df2['UK_page']=df2['UK']*df2['ab_page']"
   ]
  },
  {
   "cell_type": "code",
   "execution_count": 17,
   "metadata": {
    "scrolled": true
   },
   "outputs": [
    {
     "name": "stdout",
     "output_type": "stream",
     "text": [
      "Optimization terminated successfully.\n",
      "         Current function value: 0.366109\n",
      "         Iterations 6\n"
     ]
    },
    {
     "data": {
      "text/html": [
       "<table class=\"simpletable\">\n",
       "<caption>Logit Regression Results</caption>\n",
       "<tr>\n",
       "  <th>Dep. Variable:</th>     <td>converted</td>    <th>  No. Observations:  </th>   <td>290584</td>   \n",
       "</tr>\n",
       "<tr>\n",
       "  <th>Model:</th>               <td>Logit</td>      <th>  Df Residuals:      </th>   <td>290578</td>   \n",
       "</tr>\n",
       "<tr>\n",
       "  <th>Method:</th>               <td>MLE</td>       <th>  Df Model:          </th>   <td>     5</td>   \n",
       "</tr>\n",
       "<tr>\n",
       "  <th>Date:</th>          <td>Fri, 07 Sep 2018</td> <th>  Pseudo R-squ.:     </th>  <td>3.482e-05</td> \n",
       "</tr>\n",
       "<tr>\n",
       "  <th>Time:</th>              <td>21:47:50</td>     <th>  Log-Likelihood:    </th> <td>-1.0639e+05</td>\n",
       "</tr>\n",
       "<tr>\n",
       "  <th>converged:</th>           <td>True</td>       <th>  LL-Null:           </th> <td>-1.0639e+05</td>\n",
       "</tr>\n",
       "<tr>\n",
       "  <th> </th>                      <td> </td>        <th>  LLR p-value:       </th>   <td>0.1920</td>   \n",
       "</tr>\n",
       "</table>\n",
       "<table class=\"simpletable\">\n",
       "<tr>\n",
       "      <td></td>         <th>coef</th>     <th>std err</th>      <th>z</th>      <th>P>|z|</th>  <th>[0.025</th>    <th>0.975]</th>  \n",
       "</tr>\n",
       "<tr>\n",
       "  <th>intercept</th> <td>   -1.9865</td> <td>    0.010</td> <td> -206.344</td> <td> 0.000</td> <td>   -2.005</td> <td>   -1.968</td>\n",
       "</tr>\n",
       "<tr>\n",
       "  <th>CA</th>        <td>   -0.0175</td> <td>    0.038</td> <td>   -0.465</td> <td> 0.642</td> <td>   -0.091</td> <td>    0.056</td>\n",
       "</tr>\n",
       "<tr>\n",
       "  <th>UK</th>        <td>   -0.0057</td> <td>    0.019</td> <td>   -0.306</td> <td> 0.760</td> <td>   -0.043</td> <td>    0.031</td>\n",
       "</tr>\n",
       "<tr>\n",
       "  <th>ab_page</th>   <td>   -0.0206</td> <td>    0.014</td> <td>   -1.505</td> <td> 0.132</td> <td>   -0.047</td> <td>    0.006</td>\n",
       "</tr>\n",
       "<tr>\n",
       "  <th>CA_page</th>   <td>   -0.0469</td> <td>    0.054</td> <td>   -0.872</td> <td> 0.383</td> <td>   -0.152</td> <td>    0.059</td>\n",
       "</tr>\n",
       "<tr>\n",
       "  <th>UK_page</th>   <td>    0.0314</td> <td>    0.027</td> <td>    1.181</td> <td> 0.238</td> <td>   -0.021</td> <td>    0.084</td>\n",
       "</tr>\n",
       "</table>"
      ],
      "text/plain": [
       "<class 'statsmodels.iolib.summary.Summary'>\n",
       "\"\"\"\n",
       "                           Logit Regression Results                           \n",
       "==============================================================================\n",
       "Dep. Variable:              converted   No. Observations:               290584\n",
       "Model:                          Logit   Df Residuals:                   290578\n",
       "Method:                           MLE   Df Model:                            5\n",
       "Date:                Fri, 07 Sep 2018   Pseudo R-squ.:               3.482e-05\n",
       "Time:                        21:47:50   Log-Likelihood:            -1.0639e+05\n",
       "converged:                       True   LL-Null:                   -1.0639e+05\n",
       "                                        LLR p-value:                    0.1920\n",
       "==============================================================================\n",
       "                 coef    std err          z      P>|z|      [0.025      0.975]\n",
       "------------------------------------------------------------------------------\n",
       "intercept     -1.9865      0.010   -206.344      0.000      -2.005      -1.968\n",
       "CA            -0.0175      0.038     -0.465      0.642      -0.091       0.056\n",
       "UK            -0.0057      0.019     -0.306      0.760      -0.043       0.031\n",
       "ab_page       -0.0206      0.014     -1.505      0.132      -0.047       0.006\n",
       "CA_page       -0.0469      0.054     -0.872      0.383      -0.152       0.059\n",
       "UK_page        0.0314      0.027      1.181      0.238      -0.021       0.084\n",
       "==============================================================================\n",
       "\"\"\""
      ]
     },
     "execution_count": 17,
     "metadata": {},
     "output_type": "execute_result"
    }
   ],
   "source": [
    "logit_model3=sm.Logit(df2['converted'],df2[['intercept','CA','UK','ab_page','CA_page','UK_page']])\n",
    "result=logit_model3.fit()\n",
    "\n",
    "result.summary()"
   ]
  },
  {
   "cell_type": "code",
   "execution_count": 18,
   "metadata": {},
   "outputs": [
    {
     "data": {
      "text/plain": [
       "(-1.0480172021191829, 1.0318981806179213)"
      ]
     },
     "execution_count": 18,
     "metadata": {},
     "output_type": "execute_result"
    }
   ],
   "source": [
    "-np.exp(0.0469),np.exp(0.0314)"
   ]
  },
  {
   "cell_type": "markdown",
   "metadata": {
    "collapsed": true
   },
   "source": [
    "** CA_Page is the interaction factor of CA and ab_page. UK_page is the interaction factor OF UK and ab_page. From the summary, the p_value of both interaction is more than 5%. Therefore the two factor is not statistic significant. Also we can see increase CA_page decrease 1.048 odd of the conversion compared with US_page and the increase UK_page increase 1.032 odd of the conversion compared with US_page. The difference is very small. Thus it is also not practical important **"
   ]
  },
  {
   "cell_type": "markdown",
   "metadata": {},
   "source": [
    "<a id='conclusions'></a>\n",
    "## Finishing Up\n",
    "\n",
    "> Congratulations!  You have reached the end of the A/B Test Results project!  This is the final project in Term 1.  You should be very proud of all you have accomplished!\n",
    "\n",
    "> **Tip**: Once you are satisfied with your work here, check over your report to make sure that it is satisfies all the areas of the rubric (found on the project submission page at the end of the lesson). You should also probably remove all of the \"Tips\" like this one so that the presentation is as polished as possible.\n",
    "\n",
    "\n",
    "## Directions to Submit\n",
    "\n",
    "> Before you submit your project, you need to create a .html or .pdf version of this notebook in the workspace here. To do that, run the code cell below. If it worked correctly, you should get a return code of 0, and you should see the generated .html file in the workspace directory (click on the orange Jupyter icon in the upper left).\n",
    "\n",
    "> Alternatively, you can download this report as .html via the **File** > **Download as** submenu, and then manually upload it into the workspace directory by clicking on the orange Jupyter icon in the upper left, then using the Upload button.\n",
    "\n",
    "> Once you've done this, you can submit your project by clicking on the \"Submit Project\" button in the lower right here. This will create and submit a zip file with this .ipynb doc and the .html or .pdf version you created. Congratulations!"
   ]
  },
  {
   "cell_type": "code",
   "execution_count": null,
   "metadata": {},
   "outputs": [],
   "source": [
    "from subprocess import call\n",
    "call(['python', '-m', 'nbconvert', 'Analyze_ab_test_results_notebook.ipynb'])"
   ]
  }
 ],
 "metadata": {
  "kernelspec": {
   "display_name": "Python 3",
   "language": "python",
   "name": "python3"
  },
  "language_info": {
   "codemirror_mode": {
    "name": "ipython",
    "version": 3
   },
   "file_extension": ".py",
   "mimetype": "text/x-python",
   "name": "python",
   "nbconvert_exporter": "python",
   "pygments_lexer": "ipython3",
   "version": "3.6.5"
  }
 },
 "nbformat": 4,
 "nbformat_minor": 2
}
